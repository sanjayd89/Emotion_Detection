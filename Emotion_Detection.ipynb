{
  "cells": [
    {
      "cell_type": "markdown",
      "metadata": {
        "id": "UBYoJqS92rZ0"
      },
      "source": [
        "<p align=\"center\"><img src=\"https://github.com/insaid2018/Term-1/blob/master/Images/INSAID_Full%20Logo.png?raw=true\" width=\"260\" height=\"110\" /></p>"
      ]
    },
    {
      "cell_type": "markdown",
      "metadata": {
        "id": "yPN2tUfV2rZ3"
      },
      "source": [
        "---\n",
        "<a name = Section1></a>\n",
        "# **1. Introduction**\n",
        "---\n",
        "\n",
        "- An AI tech company is making a robot especially for the purpose of detecting emotions from human statements.\n",
        "- They want to detect some of the basic emotions like joy, sadness , fear , anger etc.\n",
        "- Their aim is to do the analysis of emotions on the basis of sentences and predict the type of emotion.\n",
        "- Doing this manually requires a lot of time and use of resources which are not cost effective."
      ]
    },
    {
      "cell_type": "markdown",
      "metadata": {
        "id": "D76WMl8L2rZ3"
      },
      "source": [
        "---\n",
        "<a name = Section2></a>\n",
        "# **2. Problem Statement**\n",
        "---\n",
        "\n",
        "\n",
        "- This dataset contains textual information about human emotions.\n",
        "- It is a collection of approximately 16,000 different instances sentences conveying a specific human emotions to be used by a Bot for emotion detection.\n",
        "\n",
        " \n",
        "<p align=\"center\"><img src=\"https://th.bing.com/th/id/R.ad7ad2aeaff1af8805316d6cb8df98a6?rik=BLxtrVe7bWrJVg&riu=http%3a%2f%2feng.smartmedical.jp%2fwp-content%2fuploads%2f2016%2f08%2ftapia.png&ehk=Kr6e5UUIZVc%2fwHZE%2fVjgAzj7orvUMhE0l%2bRweEwjUUI%3d&risl=&pid=ImgRaw&r=0\"></p>\n",
        "\n",
        "- This dataset is intended for binary classification tasks.\n",
        "\n",
        "- The objective here would be to come up with an accurate AI system that can tell emotion after analysing a sentence."
      ]
    },
    {
      "cell_type": "markdown",
      "metadata": {
        "id": "LENRwZZg2rZ4"
      },
      "source": [
        "---\n",
        "<a id = Section3></a>\n",
        "# **3. Importing Libraries**\n",
        "---\n",
        "\n",
        "- This section is emphasised on installing and importing the necessary libraries that will be required."
      ]
    },
    {
      "cell_type": "code",
      "execution_count": 1,
      "metadata": {
        "id": "CrAgnR5VCqeZ",
        "colab": {
          "base_uri": "https://localhost:8080/"
        },
        "outputId": "c7c8ac1e-4168-4eb4-d1c1-69fff9547cee"
      },
      "outputs": [
        {
          "output_type": "stream",
          "name": "stdout",
          "text": [
            "Mounted at /content/drive\n"
          ]
        }
      ],
      "source": [
        "from google.colab import drive\n",
        "drive.mount('/content/drive')"
      ]
    },
    {
      "cell_type": "code",
      "execution_count": null,
      "metadata": {
        "id": "rAkNpIra2rZ6"
      },
      "outputs": [],
      "source": [
        "!pip install --upgrade gensim                                      # install this before doing anything\n",
        "\n",
        "import pandas as pd                                                 # Importing package pandas (For Panel Data Analysis)\n",
        "pd.set_option('display.max_columns', None)                          # Unfolding hidden features if the cardinality is high      \n",
        "pd.set_option('display.max_colwidth', None)                         # Unfolding the max feature width for better clearity      \n",
        "pd.set_option('display.max_rows', None)                             # Unfolding hidden data points if the cardinality is high\n",
        "pd.set_option('mode.chained_assignment', None)                      # Removing restriction over chained assignments operations\n",
        "pd.set_option('display.float_format', lambda x: '%.2f' % x)         # To suppress scientific notation over exponential values\n",
        "#-------------------------------------------------------------------------------------------------------------------------------\n",
        "\n",
        "import numpy as np                                                  # Importing package numpys (For Numerical Python)\n",
        "\n",
        "import matplotlib.pyplot as plt                                     # Importing pyplot interface to use matplotlib\n",
        "import seaborn as sns                                               # Importing seaborn library for interactive visualization\n",
        "%matplotlib inline\n",
        "\n",
        "import scipy as sp                                                  # Importing library for scientific calculations\n",
        "from matplotlib import rc\n",
        "\n",
        "import warnings\n",
        "warnings.filterwarnings('ignore')\n",
        "\n",
        "from sklearn.metrics import accuracy_score\n",
        "\n",
        "#-------------------------------------------------------------------------------------------------------------------------------\n",
        "\n",
        "# NLP Libraries\n",
        "import nltk\n",
        "import re\n",
        "from nltk.corpus import stopwords\n",
        "from nltk.stem.porter import PorterStemmer\n",
        "from nltk.stem import WordNetLemmatizer\n"
      ]
    },
    {
      "cell_type": "markdown",
      "metadata": {
        "id": "2FKy6z0Z2rZ6"
      },
      "source": [
        "---\n",
        "<a name = Section4></a>\n",
        "# **4. Data Acquisition & Description**\n",
        "---\n",
        "\n",
        "- The dataset consists of the following given below.\n",
        "- There are 6 distinct emotions in the data which are required to be predicted are: ***'Sadness', 'Joy', 'Love', 'Anger', 'Surprise', 'Fear'***\n",
        "\n",
        "- The dataset is divided into two parts: Train and Test sets.\n",
        "\n",
        "- **Train Set**:\n",
        "The train set contains **14400 rows and 3 columns.**\n",
        "The last column Sentiment is the target variable.\n",
        "\n",
        "- **Test Set**:\n",
        "The test set contains **3600 rows and 2 columns**.\n"
      ]
    },
    {
      "cell_type": "code",
      "execution_count": 3,
      "metadata": {
        "colab": {
          "base_uri": "https://localhost:8080/",
          "height": 286
        },
        "id": "KHd8uYN22rZ7",
        "outputId": "5fc425ff-52a7-4bcb-f773-569bfffe2915"
      },
      "outputs": [
        {
          "output_type": "stream",
          "name": "stdout",
          "text": [
            "Data Shape: (14400, 3)\n"
          ]
        },
        {
          "output_type": "execute_result",
          "data": {
            "text/plain": [
              "      Id  \\\n",
              "0   6491   \n",
              "1   7081   \n",
              "2   7598   \n",
              "3  15874   \n",
              "4  12871   \n",
              "\n",
              "                                                                                                                                                                                  Input  \\\n",
              "0                                                                                                                                                 i feel extremely discontent right now   \n",
              "1                                                                                    i havent gone a week without exaggerated eyelids since year at school i feel pretty fucking shitty   \n",
              "2                                                                                                       i feel so thrilled to share with my fans because lots of my songs are inspiring   \n",
              "3  i wanted to because he loves me and i feel like if he cares enough about me even if he doesnt care about the wedding itself he should be more supportive and not throw it in my face   \n",
              "4                                                          i feel we should not be supporting these rebels in a violent manner at all and particularly not give them weapons or funding   \n",
              "\n",
              "  Sentiment  \n",
              "0   sadness  \n",
              "1   sadness  \n",
              "2       joy  \n",
              "3      love  \n",
              "4      love  "
            ],
            "text/html": [
              "\n",
              "  <div id=\"df-f8bb775e-5296-40ce-90f2-a7c31f6e7125\">\n",
              "    <div class=\"colab-df-container\">\n",
              "      <div>\n",
              "<style scoped>\n",
              "    .dataframe tbody tr th:only-of-type {\n",
              "        vertical-align: middle;\n",
              "    }\n",
              "\n",
              "    .dataframe tbody tr th {\n",
              "        vertical-align: top;\n",
              "    }\n",
              "\n",
              "    .dataframe thead th {\n",
              "        text-align: right;\n",
              "    }\n",
              "</style>\n",
              "<table border=\"1\" class=\"dataframe\">\n",
              "  <thead>\n",
              "    <tr style=\"text-align: right;\">\n",
              "      <th></th>\n",
              "      <th>Id</th>\n",
              "      <th>Input</th>\n",
              "      <th>Sentiment</th>\n",
              "    </tr>\n",
              "  </thead>\n",
              "  <tbody>\n",
              "    <tr>\n",
              "      <th>0</th>\n",
              "      <td>6491</td>\n",
              "      <td>i feel extremely discontent right now</td>\n",
              "      <td>sadness</td>\n",
              "    </tr>\n",
              "    <tr>\n",
              "      <th>1</th>\n",
              "      <td>7081</td>\n",
              "      <td>i havent gone a week without exaggerated eyelids since year at school i feel pretty fucking shitty</td>\n",
              "      <td>sadness</td>\n",
              "    </tr>\n",
              "    <tr>\n",
              "      <th>2</th>\n",
              "      <td>7598</td>\n",
              "      <td>i feel so thrilled to share with my fans because lots of my songs are inspiring</td>\n",
              "      <td>joy</td>\n",
              "    </tr>\n",
              "    <tr>\n",
              "      <th>3</th>\n",
              "      <td>15874</td>\n",
              "      <td>i wanted to because he loves me and i feel like if he cares enough about me even if he doesnt care about the wedding itself he should be more supportive and not throw it in my face</td>\n",
              "      <td>love</td>\n",
              "    </tr>\n",
              "    <tr>\n",
              "      <th>4</th>\n",
              "      <td>12871</td>\n",
              "      <td>i feel we should not be supporting these rebels in a violent manner at all and particularly not give them weapons or funding</td>\n",
              "      <td>love</td>\n",
              "    </tr>\n",
              "  </tbody>\n",
              "</table>\n",
              "</div>\n",
              "      <button class=\"colab-df-convert\" onclick=\"convertToInteractive('df-f8bb775e-5296-40ce-90f2-a7c31f6e7125')\"\n",
              "              title=\"Convert this dataframe to an interactive table.\"\n",
              "              style=\"display:none;\">\n",
              "        \n",
              "  <svg xmlns=\"http://www.w3.org/2000/svg\" height=\"24px\"viewBox=\"0 0 24 24\"\n",
              "       width=\"24px\">\n",
              "    <path d=\"M0 0h24v24H0V0z\" fill=\"none\"/>\n",
              "    <path d=\"M18.56 5.44l.94 2.06.94-2.06 2.06-.94-2.06-.94-.94-2.06-.94 2.06-2.06.94zm-11 1L8.5 8.5l.94-2.06 2.06-.94-2.06-.94L8.5 2.5l-.94 2.06-2.06.94zm10 10l.94 2.06.94-2.06 2.06-.94-2.06-.94-.94-2.06-.94 2.06-2.06.94z\"/><path d=\"M17.41 7.96l-1.37-1.37c-.4-.4-.92-.59-1.43-.59-.52 0-1.04.2-1.43.59L10.3 9.45l-7.72 7.72c-.78.78-.78 2.05 0 2.83L4 21.41c.39.39.9.59 1.41.59.51 0 1.02-.2 1.41-.59l7.78-7.78 2.81-2.81c.8-.78.8-2.07 0-2.86zM5.41 20L4 18.59l7.72-7.72 1.47 1.35L5.41 20z\"/>\n",
              "  </svg>\n",
              "      </button>\n",
              "      \n",
              "  <style>\n",
              "    .colab-df-container {\n",
              "      display:flex;\n",
              "      flex-wrap:wrap;\n",
              "      gap: 12px;\n",
              "    }\n",
              "\n",
              "    .colab-df-convert {\n",
              "      background-color: #E8F0FE;\n",
              "      border: none;\n",
              "      border-radius: 50%;\n",
              "      cursor: pointer;\n",
              "      display: none;\n",
              "      fill: #1967D2;\n",
              "      height: 32px;\n",
              "      padding: 0 0 0 0;\n",
              "      width: 32px;\n",
              "    }\n",
              "\n",
              "    .colab-df-convert:hover {\n",
              "      background-color: #E2EBFA;\n",
              "      box-shadow: 0px 1px 2px rgba(60, 64, 67, 0.3), 0px 1px 3px 1px rgba(60, 64, 67, 0.15);\n",
              "      fill: #174EA6;\n",
              "    }\n",
              "\n",
              "    [theme=dark] .colab-df-convert {\n",
              "      background-color: #3B4455;\n",
              "      fill: #D2E3FC;\n",
              "    }\n",
              "\n",
              "    [theme=dark] .colab-df-convert:hover {\n",
              "      background-color: #434B5C;\n",
              "      box-shadow: 0px 1px 3px 1px rgba(0, 0, 0, 0.15);\n",
              "      filter: drop-shadow(0px 1px 2px rgba(0, 0, 0, 0.3));\n",
              "      fill: #FFFFFF;\n",
              "    }\n",
              "  </style>\n",
              "\n",
              "      <script>\n",
              "        const buttonEl =\n",
              "          document.querySelector('#df-f8bb775e-5296-40ce-90f2-a7c31f6e7125 button.colab-df-convert');\n",
              "        buttonEl.style.display =\n",
              "          google.colab.kernel.accessAllowed ? 'block' : 'none';\n",
              "\n",
              "        async function convertToInteractive(key) {\n",
              "          const element = document.querySelector('#df-f8bb775e-5296-40ce-90f2-a7c31f6e7125');\n",
              "          const dataTable =\n",
              "            await google.colab.kernel.invokeFunction('convertToInteractive',\n",
              "                                                     [key], {});\n",
              "          if (!dataTable) return;\n",
              "\n",
              "          const docLinkHtml = 'Like what you see? Visit the ' +\n",
              "            '<a target=\"_blank\" href=https://colab.research.google.com/notebooks/data_table.ipynb>data table notebook</a>'\n",
              "            + ' to learn more about interactive tables.';\n",
              "          element.innerHTML = '';\n",
              "          dataTable['output_type'] = 'display_data';\n",
              "          await google.colab.output.renderOutput(dataTable, element);\n",
              "          const docLink = document.createElement('div');\n",
              "          docLink.innerHTML = docLinkHtml;\n",
              "          element.appendChild(docLink);\n",
              "        }\n",
              "      </script>\n",
              "    </div>\n",
              "  </div>\n",
              "  "
            ]
          },
          "metadata": {},
          "execution_count": 3
        }
      ],
      "source": [
        "data = pd.read_csv(r'/./emotion_train.csv' )\n",
        "\n",
        "print('Data Shape:', data.shape)\n",
        "data.head(5)"
      ]
    },
    {
      "cell_type": "code",
      "execution_count": null,
      "metadata": {
        "colab": {
          "base_uri": "https://localhost:8080/"
        },
        "id": "kjgxc2A22rZ7",
        "outputId": "c8773185-be01-4b4a-ebd9-7617e4c018ef"
      },
      "outputs": [
        {
          "output_type": "stream",
          "name": "stdout",
          "text": [
            "<class 'pandas.core.frame.DataFrame'>\n",
            "RangeIndex: 14400 entries, 0 to 14399\n",
            "Data columns (total 3 columns):\n",
            " #   Column     Non-Null Count  Dtype \n",
            "---  ------     --------------  ----- \n",
            " 0   Id         14400 non-null  int64 \n",
            " 1   Input      14400 non-null  object\n",
            " 2   Sentiment  14400 non-null  object\n",
            "dtypes: int64(1), object(2)\n",
            "memory usage: 337.6+ KB\n"
          ]
        }
      ],
      "source": [
        "data.info()"
      ]
    },
    {
      "cell_type": "markdown",
      "metadata": {
        "id": "tAIqXSnt2rZ8"
      },
      "source": [
        "- No null values"
      ]
    },
    {
      "cell_type": "code",
      "source": [
        "data.Sentiment.unique()"
      ],
      "metadata": {
        "colab": {
          "base_uri": "https://localhost:8080/"
        },
        "id": "bdTWyhkk2vDc",
        "outputId": "cf85921b-b6ea-4414-9c69-503272049d9a"
      },
      "execution_count": null,
      "outputs": [
        {
          "output_type": "execute_result",
          "data": {
            "text/plain": [
              "array(['sadness', 'joy', 'love', 'anger', 'surprise', 'fear'],\n",
              "      dtype=object)"
            ]
          },
          "metadata": {},
          "execution_count": 5
        }
      ]
    },
    {
      "cell_type": "markdown",
      "metadata": {
        "id": "rmd2VPk12rZ8"
      },
      "source": [
        "---\n",
        "<a name = Section5></a>\n",
        "# **5. Data Pre-Processing**\n",
        "---"
      ]
    },
    {
      "cell_type": "code",
      "source": [
        "nltk.download('stopwords')\n",
        "nltk.download('wordnet')\n",
        "nltk.download('omw-1.4')\n",
        "nltk.download('punkt')"
      ],
      "metadata": {
        "id": "4f3JWhgH3P9P"
      },
      "execution_count": null,
      "outputs": []
    },
    {
      "cell_type": "code",
      "source": [
        "stops = set(stopwords.words('english'))\n",
        "print(stops)"
      ],
      "metadata": {
        "colab": {
          "base_uri": "https://localhost:8080/"
        },
        "id": "GPPeP2JN3QCl",
        "outputId": "be1bffb6-e127-4bba-e435-d5b53c0fe0f0"
      },
      "execution_count": null,
      "outputs": [
        {
          "output_type": "stream",
          "name": "stdout",
          "text": [
            "{'who', 'not', 'having', \"shouldn't\", \"needn't\", 'has', 'her', 'any', 'above', 'this', 'further', 'now', 'am', 'here', 'if', 'when', 'an', 'then', \"wasn't\", 'me', 'a', 'most', 'with', 'how', 'only', \"aren't\", \"that'll\", 'or', 'yours', \"you've\", 'too', 'his', 'during', 'those', 'nor', \"you're\", 'few', 'been', 'him', 'what', \"hadn't\", \"weren't\", 'm', 's', 'isn', 'hadn', 'is', 'at', 'each', 'doesn', 'off', 'while', 'did', 'y', 'hasn', 'that', \"you'd\", 'hers', 'for', 'just', 'to', 'themselves', 'up', 'ain', 'aren', 'all', 'myself', 'itself', 'we', 'it', \"didn't\", 'own', 'which', \"mightn't\", 'wasn', 'they', 'its', \"couldn't\", \"doesn't\", 'but', 'yourselves', 'where', 'didn', 'theirs', 'again', 'once', 'no', \"it's\", 'there', 'will', 've', 'same', 'does', 'these', 'himself', 'do', 'why', 'can', 'wouldn', 'down', 'on', 'are', 'should', 'more', \"mustn't\", 'below', 'couldn', 'be', 'under', 'ours', 'because', 'haven', \"haven't\", 'were', 'over', 'don', 'doing', 'by', \"won't\", 'you', 'before', 'my', \"don't\", \"hasn't\", 'weren', 'so', 'was', 'whom', 'out', 'won', 'ourselves', 'both', 'mightn', \"you'll\", \"should've\", 'about', 'had', 're', 't', 'and', 'your', 'being', 'very', 'from', 'he', 'until', 'the', 'd', 'some', 'between', 'shan', 'i', \"wouldn't\", 'mustn', 'as', 'such', 'yourself', 'into', 'after', 'in', 'needn', 'other', \"she's\", 'than', 'them', 'shouldn', 'of', \"isn't\", 'have', \"shan't\", 'o', 'll', 'through', 'their', 'against', 'herself', 'ma', 'our', 'she'}\n"
          ]
        }
      ]
    },
    {
      "cell_type": "markdown",
      "source": [
        "## 5.1 Cleaning Text"
      ],
      "metadata": {
        "id": "VFDhOHf5WYs0"
      }
    },
    {
      "cell_type": "code",
      "source": [
        "improper_words = ['ive ', 'im ', 'didnt', 'wont', 'isnt', 'arent', 'couldnt', 'didnt', 'doesnt', 'dont', \n",
        "                  'hadnt', 'hasnt', 'havent', 'mightnt', 'mustnt', 'neednt', 'shant', 'shouldnt', 'theres', \n",
        "                  'wasnt', 'werent', 'wont', 'wouldnt', ' s ', 'n t ', ' i m ', \" ill \"\n",
        "                  ]"
      ],
      "metadata": {
        "id": "650IMKap3QJ1"
      },
      "execution_count": 5,
      "outputs": []
    },
    {
      "cell_type": "code",
      "source": [
        "proper_words = ['i have ', 'i am ', \"did not\", \"will not\", \"is not\",\"are not\", \"could not\", \"did not\", \"does not\", \"do not\", \n",
        "                \"had not\", \"has not\", \"have not\", \"might not\", \"must not\", \"need not\", \"shall not\", \"should not\", \"there is\", \n",
        "                \"was not\", \"were not\", \"will not\", \"would not\", ' is ', \"not \", ' i am ', \"i will\"\n",
        "                  ]               "
      ],
      "metadata": {
        "id": "RYqEIat4Y0h2"
      },
      "execution_count": 6,
      "outputs": []
    },
    {
      "cell_type": "code",
      "source": [
        "for i in range(data.Input.shape[0]):\n",
        "  for j in range(len(proper_words)):\n",
        "    a = improper_words[j]\n",
        "    b = proper_words[j]\n",
        "    data.Input[i] = data.Input[i].replace(a, b)\n"
      ],
      "metadata": {
        "id": "EmbbM3f93QPF"
      },
      "execution_count": 7,
      "outputs": []
    },
    {
      "cell_type": "markdown",
      "source": [
        "## 5.2 Stopwords & Special Character removal, Stemming & Lemmatization"
      ],
      "metadata": {
        "id": "c664kCmlfwGo"
      }
    },
    {
      "cell_type": "code",
      "source": [
        "lemmatizer = WordNetLemmatizer()\n",
        "ps = PorterStemmer()\n",
        "\n",
        "corpus = []\n",
        "for i in range (0, len(data)):\n",
        "  review = re.sub('[^a-zA-Z0-9]', ' ', data['Input'][i])\n",
        "  review = review.lower()\n",
        "  review = review.split()\n",
        "\n",
        "  review = [ps.stem(word) for word in review if not word in stopwords.words('english')]\n",
        "  review = [lemmatizer.lemmatize(word) for word in review if not word in stopwords.words('english')]\n",
        "  \n",
        "\n",
        "  review = ' '.join(review)\n",
        "  corpus.append(review)\n"
      ],
      "metadata": {
        "id": "IbkBY7Hi3QXl"
      },
      "execution_count": 8,
      "outputs": []
    },
    {
      "cell_type": "code",
      "source": [
        "data['word_count_post_process'] = data['Sentiment']\n",
        "for i in range(0,len(data)):\n",
        "  data['word_count_post_process'][i] = len(corpus[i].split())"
      ],
      "metadata": {
        "id": "W0IR2cE0FQCN"
      },
      "execution_count": 9,
      "outputs": []
    },
    {
      "cell_type": "code",
      "source": [
        "print(\"Max word count of post-processed sentence is \", data['word_count_post_process'].max())\n",
        "print(\"Min word count of post-processed sentence is \", data['word_count_post_process'].min())"
      ],
      "metadata": {
        "colab": {
          "base_uri": "https://localhost:8080/"
        },
        "outputId": "23b054b2-b199-477e-ad87-d7b31a15ccba",
        "id": "g9nxl2jtFQCO"
      },
      "execution_count": 10,
      "outputs": [
        {
          "output_type": "stream",
          "name": "stdout",
          "text": [
            "Max word count of post-processed sentence is  35\n",
            "Min word count of post-processed sentence is  1\n"
          ]
        }
      ]
    },
    {
      "cell_type": "markdown",
      "source": [
        "##### Deleting rows having word_count as 1 as these are not meaningful sentences to derive sentiment"
      ],
      "metadata": {
        "id": "-5wmyaij_fae"
      }
    },
    {
      "cell_type": "code",
      "source": [
        "data[data['word_count_post_process']<2]"
      ],
      "metadata": {
        "colab": {
          "base_uri": "https://localhost:8080/",
          "height": 269
        },
        "outputId": "56612634-e7a5-4607-ce45-49d852913ee6",
        "id": "0CZS5hsFFQCO"
      },
      "execution_count": 11,
      "outputs": [
        {
          "output_type": "execute_result",
          "data": {
            "text/plain": [
              "          Id                   Input Sentiment word_count_post_process\n",
              "1705   12546               at school     anger                       1\n",
              "3725   13849         as in sadness a     anger                       1\n",
              "4860    3111             in the army     anger                       1\n",
              "5057   13316          no description     anger                       1\n",
              "7475   13344  before an exam which i      fear                       1\n",
              "11417   4997         during lectures       joy                       1\n",
              "12976   8824               in sweden      fear                       1"
            ],
            "text/html": [
              "\n",
              "  <div id=\"df-845ad0b5-ce5a-4606-bd01-2e7824e7b9e6\">\n",
              "    <div class=\"colab-df-container\">\n",
              "      <div>\n",
              "<style scoped>\n",
              "    .dataframe tbody tr th:only-of-type {\n",
              "        vertical-align: middle;\n",
              "    }\n",
              "\n",
              "    .dataframe tbody tr th {\n",
              "        vertical-align: top;\n",
              "    }\n",
              "\n",
              "    .dataframe thead th {\n",
              "        text-align: right;\n",
              "    }\n",
              "</style>\n",
              "<table border=\"1\" class=\"dataframe\">\n",
              "  <thead>\n",
              "    <tr style=\"text-align: right;\">\n",
              "      <th></th>\n",
              "      <th>Id</th>\n",
              "      <th>Input</th>\n",
              "      <th>Sentiment</th>\n",
              "      <th>word_count_post_process</th>\n",
              "    </tr>\n",
              "  </thead>\n",
              "  <tbody>\n",
              "    <tr>\n",
              "      <th>1705</th>\n",
              "      <td>12546</td>\n",
              "      <td>at school</td>\n",
              "      <td>anger</td>\n",
              "      <td>1</td>\n",
              "    </tr>\n",
              "    <tr>\n",
              "      <th>3725</th>\n",
              "      <td>13849</td>\n",
              "      <td>as in sadness a</td>\n",
              "      <td>anger</td>\n",
              "      <td>1</td>\n",
              "    </tr>\n",
              "    <tr>\n",
              "      <th>4860</th>\n",
              "      <td>3111</td>\n",
              "      <td>in the army</td>\n",
              "      <td>anger</td>\n",
              "      <td>1</td>\n",
              "    </tr>\n",
              "    <tr>\n",
              "      <th>5057</th>\n",
              "      <td>13316</td>\n",
              "      <td>no description</td>\n",
              "      <td>anger</td>\n",
              "      <td>1</td>\n",
              "    </tr>\n",
              "    <tr>\n",
              "      <th>7475</th>\n",
              "      <td>13344</td>\n",
              "      <td>before an exam which i</td>\n",
              "      <td>fear</td>\n",
              "      <td>1</td>\n",
              "    </tr>\n",
              "    <tr>\n",
              "      <th>11417</th>\n",
              "      <td>4997</td>\n",
              "      <td>during lectures</td>\n",
              "      <td>joy</td>\n",
              "      <td>1</td>\n",
              "    </tr>\n",
              "    <tr>\n",
              "      <th>12976</th>\n",
              "      <td>8824</td>\n",
              "      <td>in sweden</td>\n",
              "      <td>fear</td>\n",
              "      <td>1</td>\n",
              "    </tr>\n",
              "  </tbody>\n",
              "</table>\n",
              "</div>\n",
              "      <button class=\"colab-df-convert\" onclick=\"convertToInteractive('df-845ad0b5-ce5a-4606-bd01-2e7824e7b9e6')\"\n",
              "              title=\"Convert this dataframe to an interactive table.\"\n",
              "              style=\"display:none;\">\n",
              "        \n",
              "  <svg xmlns=\"http://www.w3.org/2000/svg\" height=\"24px\"viewBox=\"0 0 24 24\"\n",
              "       width=\"24px\">\n",
              "    <path d=\"M0 0h24v24H0V0z\" fill=\"none\"/>\n",
              "    <path d=\"M18.56 5.44l.94 2.06.94-2.06 2.06-.94-2.06-.94-.94-2.06-.94 2.06-2.06.94zm-11 1L8.5 8.5l.94-2.06 2.06-.94-2.06-.94L8.5 2.5l-.94 2.06-2.06.94zm10 10l.94 2.06.94-2.06 2.06-.94-2.06-.94-.94-2.06-.94 2.06-2.06.94z\"/><path d=\"M17.41 7.96l-1.37-1.37c-.4-.4-.92-.59-1.43-.59-.52 0-1.04.2-1.43.59L10.3 9.45l-7.72 7.72c-.78.78-.78 2.05 0 2.83L4 21.41c.39.39.9.59 1.41.59.51 0 1.02-.2 1.41-.59l7.78-7.78 2.81-2.81c.8-.78.8-2.07 0-2.86zM5.41 20L4 18.59l7.72-7.72 1.47 1.35L5.41 20z\"/>\n",
              "  </svg>\n",
              "      </button>\n",
              "      \n",
              "  <style>\n",
              "    .colab-df-container {\n",
              "      display:flex;\n",
              "      flex-wrap:wrap;\n",
              "      gap: 12px;\n",
              "    }\n",
              "\n",
              "    .colab-df-convert {\n",
              "      background-color: #E8F0FE;\n",
              "      border: none;\n",
              "      border-radius: 50%;\n",
              "      cursor: pointer;\n",
              "      display: none;\n",
              "      fill: #1967D2;\n",
              "      height: 32px;\n",
              "      padding: 0 0 0 0;\n",
              "      width: 32px;\n",
              "    }\n",
              "\n",
              "    .colab-df-convert:hover {\n",
              "      background-color: #E2EBFA;\n",
              "      box-shadow: 0px 1px 2px rgba(60, 64, 67, 0.3), 0px 1px 3px 1px rgba(60, 64, 67, 0.15);\n",
              "      fill: #174EA6;\n",
              "    }\n",
              "\n",
              "    [theme=dark] .colab-df-convert {\n",
              "      background-color: #3B4455;\n",
              "      fill: #D2E3FC;\n",
              "    }\n",
              "\n",
              "    [theme=dark] .colab-df-convert:hover {\n",
              "      background-color: #434B5C;\n",
              "      box-shadow: 0px 1px 3px 1px rgba(0, 0, 0, 0.15);\n",
              "      filter: drop-shadow(0px 1px 2px rgba(0, 0, 0, 0.3));\n",
              "      fill: #FFFFFF;\n",
              "    }\n",
              "  </style>\n",
              "\n",
              "      <script>\n",
              "        const buttonEl =\n",
              "          document.querySelector('#df-845ad0b5-ce5a-4606-bd01-2e7824e7b9e6 button.colab-df-convert');\n",
              "        buttonEl.style.display =\n",
              "          google.colab.kernel.accessAllowed ? 'block' : 'none';\n",
              "\n",
              "        async function convertToInteractive(key) {\n",
              "          const element = document.querySelector('#df-845ad0b5-ce5a-4606-bd01-2e7824e7b9e6');\n",
              "          const dataTable =\n",
              "            await google.colab.kernel.invokeFunction('convertToInteractive',\n",
              "                                                     [key], {});\n",
              "          if (!dataTable) return;\n",
              "\n",
              "          const docLinkHtml = 'Like what you see? Visit the ' +\n",
              "            '<a target=\"_blank\" href=https://colab.research.google.com/notebooks/data_table.ipynb>data table notebook</a>'\n",
              "            + ' to learn more about interactive tables.';\n",
              "          element.innerHTML = '';\n",
              "          dataTable['output_type'] = 'display_data';\n",
              "          await google.colab.output.renderOutput(dataTable, element);\n",
              "          const docLink = document.createElement('div');\n",
              "          docLink.innerHTML = docLinkHtml;\n",
              "          element.appendChild(docLink);\n",
              "        }\n",
              "      </script>\n",
              "    </div>\n",
              "  </div>\n",
              "  "
            ]
          },
          "metadata": {},
          "execution_count": 11
        }
      ]
    },
    {
      "cell_type": "code",
      "source": [
        "#droppping one word corpus \n",
        "drop_index = data[data['word_count_post_process']<2].index\n",
        "for index in sorted(drop_index, reverse=True):\n",
        "    del corpus[index]"
      ],
      "metadata": {
        "id": "_PFd0UfRDsaa"
      },
      "execution_count": 12,
      "outputs": []
    },
    {
      "cell_type": "code",
      "source": [
        "#dropping from data\n",
        "data = data.drop(data[data['word_count_post_process']<2].index)\n",
        "data.shape"
      ],
      "metadata": {
        "colab": {
          "base_uri": "https://localhost:8080/"
        },
        "id": "e2XcfsQg_eHL",
        "outputId": "00f28eee-775a-492a-9d27-b88f741749b6"
      },
      "execution_count": 13,
      "outputs": [
        {
          "output_type": "execute_result",
          "data": {
            "text/plain": [
              "(14393, 4)"
            ]
          },
          "metadata": {},
          "execution_count": 13
        }
      ]
    },
    {
      "cell_type": "code",
      "source": [
        "# Emotion distribution across the dataset:\n",
        "\n",
        "data.Sentiment.value_counts(ascending = True).plot(kind = 'barh')"
      ],
      "metadata": {
        "colab": {
          "base_uri": "https://localhost:8080/",
          "height": 283
        },
        "id": "70gc_QetFGL4",
        "outputId": "fa942eff-eed4-40f1-b1cd-e0b2fd4286a5"
      },
      "execution_count": 14,
      "outputs": [
        {
          "output_type": "execute_result",
          "data": {
            "text/plain": [
              "<matplotlib.axes._subplots.AxesSubplot at 0x7fca8e4a8690>"
            ]
          },
          "metadata": {},
          "execution_count": 14
        },
        {
          "output_type": "display_data",
          "data": {
            "text/plain": [
              "<Figure size 432x288 with 1 Axes>"
            ],
            "image/png": "[encoded data removed]"
          },
          "metadata": {
            "needs_background": "light"
          }
        }
      ]
    },
    {
      "cell_type": "markdown",
      "metadata": {
        "id": "8S0W4xBB2raF"
      },
      "source": [
        "# **6. ML Model**"
      ]
    },
    {
      "cell_type": "markdown",
      "source": [
        "### Converting Target column from Text to Number using \"Mapping\""
      ],
      "metadata": {
        "id": "uOVQxsoa1B3Y"
      }
    },
    {
      "cell_type": "code",
      "source": [
        "data['Sentiment_number'] = data.Sentiment.map({'sadness':3, 'joy':0, 'love':2, 'anger':1, 'surprise':5, 'fear':4})"
      ],
      "metadata": {
        "id": "n9YmpXMiy7ZX"
      },
      "execution_count": 15,
      "outputs": []
    },
    {
      "cell_type": "code",
      "source": [
        "data.head()"
      ],
      "metadata": {
        "colab": {
          "base_uri": "https://localhost:8080/",
          "height": 285
        },
        "id": "QxSB0EgYy7b5",
        "outputId": "9357120c-4bce-4d92-d51f-8019a67b07a6"
      },
      "execution_count": 16,
      "outputs": [
        {
          "output_type": "execute_result",
          "data": {
            "text/plain": [
              "      Id  \\\n",
              "0   6491   \n",
              "1   7081   \n",
              "2   7598   \n",
              "3  15874   \n",
              "4  12871   \n",
              "\n",
              "                                                                                                                                                                                       Input  \\\n",
              "0                                                                                                                                                      i feel extremely discontent right now   \n",
              "1                                                                                       i have not gone a week without exaggerated eyelids since year at school i feel pretty fucking shitty   \n",
              "2                                                                                                            i feel so thrilled to share with my fans because lots of my songs are inspiring   \n",
              "3  i wanted to because he loves me and i feel like if he cares enough about me even if he does not care about the wedding itself he should be more supporti have and not throw it in my face   \n",
              "4                                                            i feel we should not be supporting these rebels in a violent manner at all and particularly not gi have them weapons or funding   \n",
              "\n",
              "  Sentiment word_count_post_process  Sentiment_number  \n",
              "0   sadness                       4                 3  \n",
              "1   sadness                      12                 3  \n",
              "2       joy                       7                 0  \n",
              "3      love                      12                 2  \n",
              "4      love                       9                 2  "
            ],
            "text/html": [
              "\n",
              "  <div id=\"df-6a0fd9cb-71f0-42b2-99f5-cca1592df237\">\n",
              "    <div class=\"colab-df-container\">\n",
              "      <div>\n",
              "<style scoped>\n",
              "    .dataframe tbody tr th:only-of-type {\n",
              "        vertical-align: middle;\n",
              "    }\n",
              "\n",
              "    .dataframe tbody tr th {\n",
              "        vertical-align: top;\n",
              "    }\n",
              "\n",
              "    .dataframe thead th {\n",
              "        text-align: right;\n",
              "    }\n",
              "</style>\n",
              "<table border=\"1\" class=\"dataframe\">\n",
              "  <thead>\n",
              "    <tr style=\"text-align: right;\">\n",
              "      <th></th>\n",
              "      <th>Id</th>\n",
              "      <th>Input</th>\n",
              "      <th>Sentiment</th>\n",
              "      <th>word_count_post_process</th>\n",
              "      <th>Sentiment_number</th>\n",
              "    </tr>\n",
              "  </thead>\n",
              "  <tbody>\n",
              "    <tr>\n",
              "      <th>0</th>\n",
              "      <td>6491</td>\n",
              "      <td>i feel extremely discontent right now</td>\n",
              "      <td>sadness</td>\n",
              "      <td>4</td>\n",
              "      <td>3</td>\n",
              "    </tr>\n",
              "    <tr>\n",
              "      <th>1</th>\n",
              "      <td>7081</td>\n",
              "      <td>i have not gone a week without exaggerated eyelids since year at school i feel pretty fucking shitty</td>\n",
              "      <td>sadness</td>\n",
              "      <td>12</td>\n",
              "      <td>3</td>\n",
              "    </tr>\n",
              "    <tr>\n",
              "      <th>2</th>\n",
              "      <td>7598</td>\n",
              "      <td>i feel so thrilled to share with my fans because lots of my songs are inspiring</td>\n",
              "      <td>joy</td>\n",
              "      <td>7</td>\n",
              "      <td>0</td>\n",
              "    </tr>\n",
              "    <tr>\n",
              "      <th>3</th>\n",
              "      <td>15874</td>\n",
              "      <td>i wanted to because he loves me and i feel like if he cares enough about me even if he does not care about the wedding itself he should be more supporti have and not throw it in my face</td>\n",
              "      <td>love</td>\n",
              "      <td>12</td>\n",
              "      <td>2</td>\n",
              "    </tr>\n",
              "    <tr>\n",
              "      <th>4</th>\n",
              "      <td>12871</td>\n",
              "      <td>i feel we should not be supporting these rebels in a violent manner at all and particularly not gi have them weapons or funding</td>\n",
              "      <td>love</td>\n",
              "      <td>9</td>\n",
              "      <td>2</td>\n",
              "    </tr>\n",
              "  </tbody>\n",
              "</table>\n",
              "</div>\n",
              "      <button class=\"colab-df-convert\" onclick=\"convertToInteractive('df-6a0fd9cb-71f0-42b2-99f5-cca1592df237')\"\n",
              "              title=\"Convert this dataframe to an interactive table.\"\n",
              "              style=\"display:none;\">\n",
              "        \n",
              "  <svg xmlns=\"http://www.w3.org/2000/svg\" height=\"24px\"viewBox=\"0 0 24 24\"\n",
              "       width=\"24px\">\n",
              "    <path d=\"M0 0h24v24H0V0z\" fill=\"none\"/>\n",
              "    <path d=\"M18.56 5.44l.94 2.06.94-2.06 2.06-.94-2.06-.94-.94-2.06-.94 2.06-2.06.94zm-11 1L8.5 8.5l.94-2.06 2.06-.94-2.06-.94L8.5 2.5l-.94 2.06-2.06.94zm10 10l.94 2.06.94-2.06 2.06-.94-2.06-.94-.94-2.06-.94 2.06-2.06.94z\"/><path d=\"M17.41 7.96l-1.37-1.37c-.4-.4-.92-.59-1.43-.59-.52 0-1.04.2-1.43.59L10.3 9.45l-7.72 7.72c-.78.78-.78 2.05 0 2.83L4 21.41c.39.39.9.59 1.41.59.51 0 1.02-.2 1.41-.59l7.78-7.78 2.81-2.81c.8-.78.8-2.07 0-2.86zM5.41 20L4 18.59l7.72-7.72 1.47 1.35L5.41 20z\"/>\n",
              "  </svg>\n",
              "      </button>\n",
              "      \n",
              "  <style>\n",
              "    .colab-df-container {\n",
              "      display:flex;\n",
              "      flex-wrap:wrap;\n",
              "      gap: 12px;\n",
              "    }\n",
              "\n",
              "    .colab-df-convert {\n",
              "      background-color: #E8F0FE;\n",
              "      border: none;\n",
              "      border-radius: 50%;\n",
              "      cursor: pointer;\n",
              "      display: none;\n",
              "      fill: #1967D2;\n",
              "      height: 32px;\n",
              "      padding: 0 0 0 0;\n",
              "      width: 32px;\n",
              "    }\n",
              "\n",
              "    .colab-df-convert:hover {\n",
              "      background-color: #E2EBFA;\n",
              "      box-shadow: 0px 1px 2px rgba(60, 64, 67, 0.3), 0px 1px 3px 1px rgba(60, 64, 67, 0.15);\n",
              "      fill: #174EA6;\n",
              "    }\n",
              "\n",
              "    [theme=dark] .colab-df-convert {\n",
              "      background-color: #3B4455;\n",
              "      fill: #D2E3FC;\n",
              "    }\n",
              "\n",
              "    [theme=dark] .colab-df-convert:hover {\n",
              "      background-color: #434B5C;\n",
              "      box-shadow: 0px 1px 3px 1px rgba(0, 0, 0, 0.15);\n",
              "      filter: drop-shadow(0px 1px 2px rgba(0, 0, 0, 0.3));\n",
              "      fill: #FFFFFF;\n",
              "    }\n",
              "  </style>\n",
              "\n",
              "      <script>\n",
              "        const buttonEl =\n",
              "          document.querySelector('#df-6a0fd9cb-71f0-42b2-99f5-cca1592df237 button.colab-df-convert');\n",
              "        buttonEl.style.display =\n",
              "          google.colab.kernel.accessAllowed ? 'block' : 'none';\n",
              "\n",
              "        async function convertToInteractive(key) {\n",
              "          const element = document.querySelector('#df-6a0fd9cb-71f0-42b2-99f5-cca1592df237');\n",
              "          const dataTable =\n",
              "            await google.colab.kernel.invokeFunction('convertToInteractive',\n",
              "                                                     [key], {});\n",
              "          if (!dataTable) return;\n",
              "\n",
              "          const docLinkHtml = 'Like what you see? Visit the ' +\n",
              "            '<a target=\"_blank\" href=https://colab.research.google.com/notebooks/data_table.ipynb>data table notebook</a>'\n",
              "            + ' to learn more about interactive tables.';\n",
              "          element.innerHTML = '';\n",
              "          dataTable['output_type'] = 'display_data';\n",
              "          await google.colab.output.renderOutput(dataTable, element);\n",
              "          const docLink = document.createElement('div');\n",
              "          docLink.innerHTML = docLinkHtml;\n",
              "          element.appendChild(docLink);\n",
              "        }\n",
              "      </script>\n",
              "    </div>\n",
              "  </div>\n",
              "  "
            ]
          },
          "metadata": {},
          "execution_count": 16
        }
      ]
    },
    {
      "cell_type": "markdown",
      "source": [
        "## 6.1 Using **BoW (Bag of Words)** to convert word to vector for Prediction"
      ],
      "metadata": {
        "id": "I9PmE8ed32Ew"
      }
    },
    {
      "cell_type": "code",
      "source": [
        "from sklearn.feature_extraction.text import CountVectorizer\n",
        "cv = CountVectorizer(max_features = 2500, binary=True)\n",
        "X = cv.fit_transform(corpus).toarray()"
      ],
      "metadata": {
        "id": "r63Weshk4A5P"
      },
      "execution_count": 17,
      "outputs": []
    },
    {
      "cell_type": "code",
      "source": [
        "X.shape"
      ],
      "metadata": {
        "colab": {
          "base_uri": "https://localhost:8080/"
        },
        "id": "eEBiZgnKeqH_",
        "outputId": "dc667e9d-88b0-4a04-c205-fb49cedde8ea"
      },
      "execution_count": 18,
      "outputs": [
        {
          "output_type": "execute_result",
          "data": {
            "text/plain": [
              "(14393, 2500)"
            ]
          },
          "metadata": {},
          "execution_count": 18
        }
      ]
    },
    {
      "cell_type": "code",
      "source": [
        "y = data.Sentiment_number"
      ],
      "metadata": {
        "id": "-R6JbLCX4A8F"
      },
      "execution_count": 19,
      "outputs": []
    },
    {
      "cell_type": "code",
      "execution_count": 20,
      "metadata": {
        "id": "HJ37CMb_2raF"
      },
      "outputs": [],
      "source": [
        "from sklearn.model_selection import train_test_split\n",
        "X_train, X_test, y_train, y_test = train_test_split(X, y, test_size=0.25, random_state=16, stratify = y)"
      ]
    },
    {
      "cell_type": "code",
      "execution_count": 21,
      "metadata": {
        "colab": {
          "base_uri": "https://localhost:8080/"
        },
        "id": "1SYTGTs62raF",
        "outputId": "703c68d0-d999-4307-edf0-ff30737c057e"
      },
      "outputs": [
        {
          "output_type": "stream",
          "name": "stdout",
          "text": [
            "Shape of X train is (10794, 2500)\n",
            "Shape of X test is (3599, 2500)\n",
            "Shape of y train is (10794,)\n",
            "Shape of y test is (3599,)\n"
          ]
        }
      ],
      "source": [
        "print(\"Shape of X train is\", X_train.shape)\n",
        "print(\"Shape of X test is\", X_test.shape)\n",
        "print(\"Shape of y train is\", y_train.shape)\n",
        "print(\"Shape of y test is\", y_test.shape)"
      ]
    },
    {
      "cell_type": "markdown",
      "metadata": {
        "id": "e9bkJ1Ln2raG"
      },
      "source": [
        "### Random Forest Model"
      ]
    },
    {
      "cell_type": "code",
      "execution_count": 22,
      "metadata": {
        "id": "ggmFlazm2raG",
        "scrolled": true,
        "colab": {
          "base_uri": "https://localhost:8080/"
        },
        "outputId": "cf265890-8f39-4265-808b-42bc7f793661"
      },
      "outputs": [
        {
          "output_type": "stream",
          "name": "stdout",
          "text": [
            "accuracy_train:  0.997313322216046\n",
            "accuracy_test:  0.847457627118644\n"
          ]
        }
      ],
      "source": [
        "from sklearn.ensemble import RandomForestClassifier\n",
        "from sklearn.metrics import accuracy_score\n",
        "\n",
        "classifier = RandomForestClassifier(n_estimators=100, random_state = 1)\n",
        "\n",
        "classifier.fit(X_train, y_train)\n",
        "y_pred_train = classifier.predict(X_train)\n",
        "y_pred_test = classifier.predict(X_test)\n",
        "\n",
        "accuracy_train = accuracy_score(y_train, y_pred_train)\n",
        "accuracy_test = accuracy_score(y_test, y_pred_test)\n",
        "\n",
        "print('accuracy_train: ', accuracy_train)\n",
        "print('accuracy_test: ', accuracy_test)"
      ]
    },
    {
      "cell_type": "markdown",
      "source": [
        "### Naive Bayes Model"
      ],
      "metadata": {
        "id": "2Ly9u00p7-fA"
      }
    },
    {
      "cell_type": "code",
      "source": [
        "from sklearn.naive_bayes import MultinomialNB\n",
        "from sklearn.metrics import accuracy_score\n",
        "\n",
        "classifier = MultinomialNB()\n",
        "\n",
        "classifier.fit(X_train, y_train)\n",
        "y_pred_train = classifier.predict(X_train)\n",
        "y_pred_test = classifier.predict(X_test)\n",
        "\n",
        "accuracy_train = accuracy_score(y_train, y_pred_train)\n",
        "accuracy_test = accuracy_score(y_test, y_pred_test)\n",
        "\n",
        "print('accuracy_train: ', accuracy_train)\n",
        "print('accuracy_test: ', accuracy_test)"
      ],
      "metadata": {
        "colab": {
          "base_uri": "https://localhost:8080/"
        },
        "id": "bffUfqcQ79vK",
        "outputId": "021e95bd-5553-4d91-d920-39f65d5ea48e"
      },
      "execution_count": 23,
      "outputs": [
        {
          "output_type": "stream",
          "name": "stdout",
          "text": [
            "accuracy_train:  0.9064294978691866\n",
            "accuracy_test:  0.7974437343706585\n"
          ]
        }
      ]
    },
    {
      "cell_type": "markdown",
      "source": [
        "## 6.2 **TFIDF method** for word to vector"
      ],
      "metadata": {
        "id": "napBSW_oExZz"
      }
    },
    {
      "cell_type": "code",
      "source": [
        "from sklearn.feature_extraction.text import TfidfVectorizer\n",
        "tv = TfidfVectorizer(max_features = 2500, binary=True)\n",
        "X = tv.fit_transform(corpus).toarray()\n",
        "y = data.Sentiment_number"
      ],
      "metadata": {
        "id": "8s0xWJb3FB1H"
      },
      "execution_count": 24,
      "outputs": []
    },
    {
      "cell_type": "code",
      "source": [
        "from sklearn.model_selection import train_test_split\n",
        "X_train, X_test, y_train, y_test = train_test_split(X, y, test_size=0.25, random_state=16, stratify = y)"
      ],
      "metadata": {
        "id": "LlyZD6i_FB32"
      },
      "execution_count": 25,
      "outputs": []
    },
    {
      "cell_type": "code",
      "source": [
        "print(\"Shape of X train is\", X_train.shape)\n",
        "print(\"Shape of X test is\", X_test.shape)\n",
        "print(\"Shape of y train is\", y_train.shape)\n",
        "print(\"Shape of y test is\", y_test.shape)"
      ],
      "metadata": {
        "colab": {
          "base_uri": "https://localhost:8080/"
        },
        "id": "lsPyUb5wFB6S",
        "outputId": "a9ccadd9-3636-47e3-da1a-e19219bedcd3"
      },
      "execution_count": 26,
      "outputs": [
        {
          "output_type": "stream",
          "name": "stdout",
          "text": [
            "Shape of X train is (10794, 2500)\n",
            "Shape of X test is (3599, 2500)\n",
            "Shape of y train is (10794,)\n",
            "Shape of y test is (3599,)\n"
          ]
        }
      ]
    },
    {
      "cell_type": "markdown",
      "metadata": {
        "id": "0IpUvEhzGcCP"
      },
      "source": [
        "### Random Forest Model"
      ]
    },
    {
      "cell_type": "code",
      "execution_count": 27,
      "metadata": {
        "scrolled": true,
        "colab": {
          "base_uri": "https://localhost:8080/"
        },
        "outputId": "5302b39b-da83-42a8-c88a-21dd7fd58389",
        "id": "Nh3wzjaeGcCQ"
      },
      "outputs": [
        {
          "output_type": "stream",
          "name": "stdout",
          "text": [
            "accuracy_train:  0.997313322216046\n",
            "accuracy_test:  0.8391219783273132\n"
          ]
        }
      ],
      "source": [
        "from sklearn.ensemble import RandomForestClassifier\n",
        "from sklearn.metrics import accuracy_score\n",
        "\n",
        "classifier = RandomForestClassifier(n_estimators=100, random_state = 1)\n",
        "\n",
        "classifier.fit(X_train, y_train)\n",
        "y_pred_train = classifier.predict(X_train)\n",
        "y_pred_test = classifier.predict(X_test)\n",
        "\n",
        "accuracy_train = accuracy_score(y_train, y_pred_train)\n",
        "accuracy_test = accuracy_score(y_test, y_pred_test)\n",
        "\n",
        "print('accuracy_train: ', accuracy_train)\n",
        "print('accuracy_test: ', accuracy_test)"
      ]
    },
    {
      "cell_type": "markdown",
      "source": [
        "### Naive Bayes Model"
      ],
      "metadata": {
        "id": "msZHnIUeGcCR"
      }
    },
    {
      "cell_type": "code",
      "source": [
        "from sklearn.naive_bayes import MultinomialNB\n",
        "from sklearn.metrics import accuracy_score\n",
        "\n",
        "classifier = MultinomialNB()\n",
        "\n",
        "classifier.fit(X_train, y_train)\n",
        "y_pred_train = classifier.predict(X_train)\n",
        "y_pred_test = classifier.predict(X_test)\n",
        "\n",
        "accuracy_train = accuracy_score(y_train, y_pred_train)\n",
        "accuracy_test = accuracy_score(y_test, y_pred_test)\n",
        "\n",
        "print('accuracy_train: ', accuracy_train)\n",
        "print('accuracy_test: ', accuracy_test)"
      ],
      "metadata": {
        "colab": {
          "base_uri": "https://localhost:8080/"
        },
        "outputId": "5aa988dd-949d-4d85-b013-e764c74dbc22",
        "id": "zCwUh6a2GcCR"
      },
      "execution_count": 28,
      "outputs": [
        {
          "output_type": "stream",
          "name": "stdout",
          "text": [
            "accuracy_train:  0.8074856401704651\n",
            "accuracy_test:  0.7352042233953876\n"
          ]
        }
      ]
    },
    {
      "cell_type": "markdown",
      "source": [
        "## 6.3 **Word2Vec** method to convert word to Vector"
      ],
      "metadata": {
        "id": "IbqVWzcmLKiX"
      }
    },
    {
      "cell_type": "code",
      "source": [
        "from nltk import sent_tokenize\n",
        "from gensim.utils import simple_preprocess\n",
        "import gensim\n",
        "from tqdm import tqdm"
      ],
      "metadata": {
        "id": "u8KxZlwMFCNt"
      },
      "execution_count": 29,
      "outputs": []
    },
    {
      "cell_type": "code",
      "source": [
        "words=[]\n",
        "for sent in corpus:\n",
        "    sent_token=sent_tokenize(sent)\n",
        "    for sent in sent_token:\n",
        "        words.append(simple_preprocess(sent))"
      ],
      "metadata": {
        "id": "97MnvHQnLXQR"
      },
      "execution_count": 30,
      "outputs": []
    },
    {
      "cell_type": "code",
      "source": [
        "words[:2]"
      ],
      "metadata": {
        "id": "ErxjOKqDM2qm",
        "colab": {
          "base_uri": "https://localhost:8080/"
        },
        "outputId": "f02bf0ae-5eb0-4763-f51e-a7cd9ffcb33b"
      },
      "execution_count": 31,
      "outputs": [
        {
          "output_type": "execute_result",
          "data": {
            "text/plain": [
              "[['feel', 'extrem', 'discont', 'right'],\n",
              " ['gone',\n",
              "  'week',\n",
              "  'without',\n",
              "  'exagger',\n",
              "  'eyelid',\n",
              "  'sinc',\n",
              "  'year',\n",
              "  'school',\n",
              "  'feel',\n",
              "  'pretti',\n",
              "  'fuck',\n",
              "  'shitti']]"
            ]
          },
          "metadata": {},
          "execution_count": 31
        }
      ]
    },
    {
      "cell_type": "code",
      "source": [
        "model=gensim.models.Word2Vec(words,window=5,min_count=2, vector_size=1000)"
      ],
      "metadata": {
        "id": "_8LlJJptLXVV"
      },
      "execution_count": 32,
      "outputs": []
    },
    {
      "cell_type": "code",
      "source": [
        "def avg_word2vec(doc):\n",
        "    # remove out-of-vocabulary words\n",
        "    #sent = [word for word in doc if word in model.wv.index_to_key]\n",
        "    #print(sent)\n",
        "    \n",
        "    return np.mean([model.wv[word] for word in doc if word in model.wv.index_to_key],axis=0)\n",
        "                #or [np.zeros(len(model.wv.index_to_key))], axis=0)"
      ],
      "metadata": {
        "id": "asO5iQvwLXkm"
      },
      "execution_count": 33,
      "outputs": []
    },
    {
      "cell_type": "code",
      "source": [
        "X=[]\n",
        "for i in (range(len(words))):  \n",
        "  X.append(avg_word2vec(words[i]))\n",
        "  "
      ],
      "metadata": {
        "id": "H-8zF466L9lB"
      },
      "execution_count": 34,
      "outputs": []
    },
    {
      "cell_type": "code",
      "source": [
        "X = pd.DataFrame(X[0:len(X)])\n",
        "X.shape"
      ],
      "metadata": {
        "colab": {
          "base_uri": "https://localhost:8080/"
        },
        "id": "MgHBnhwr7g5O",
        "outputId": "73ac4de0-98ca-4e9b-c841-06e0de6b86cc"
      },
      "execution_count": 35,
      "outputs": [
        {
          "output_type": "execute_result",
          "data": {
            "text/plain": [
              "(14393, 1000)"
            ]
          },
          "metadata": {},
          "execution_count": 35
        }
      ]
    },
    {
      "cell_type": "code",
      "source": [
        "y = data.Sentiment_number"
      ],
      "metadata": {
        "id": "qTIk5GBsRU6f"
      },
      "execution_count": 36,
      "outputs": []
    },
    {
      "cell_type": "code",
      "execution_count": 37,
      "metadata": {
        "id": "HXKuzHkSRU6g"
      },
      "outputs": [],
      "source": [
        "from sklearn.model_selection import train_test_split\n",
        "X_train, X_test, y_train, y_test = train_test_split(X, y, test_size=0.25, random_state=16, stratify = y)"
      ]
    },
    {
      "cell_type": "code",
      "execution_count": 38,
      "metadata": {
        "colab": {
          "base_uri": "https://localhost:8080/"
        },
        "outputId": "df1484d7-c207-4772-dad7-82d6f545cda4",
        "id": "8P_WznwaRU6g"
      },
      "outputs": [
        {
          "output_type": "stream",
          "name": "stdout",
          "text": [
            "Shape of X train is (10794, 1000)\n",
            "Shape of X test is (3599, 1000)\n",
            "Shape of y train is (10794,)\n",
            "Shape of y test is (3599,)\n"
          ]
        }
      ],
      "source": [
        "print(\"Shape of X train is\", X_train.shape)\n",
        "print(\"Shape of X test is\", X_test.shape)\n",
        "print(\"Shape of y train is\", y_train.shape)\n",
        "print(\"Shape of y test is\", y_test.shape)"
      ]
    },
    {
      "cell_type": "markdown",
      "metadata": {
        "id": "-icP0bFaRU6h"
      },
      "source": [
        "### Random Forest Model"
      ]
    },
    {
      "cell_type": "code",
      "execution_count": 39,
      "metadata": {
        "scrolled": true,
        "colab": {
          "base_uri": "https://localhost:8080/"
        },
        "outputId": "3dbcaeb5-0a46-4086-c19b-7b7b64f55301",
        "id": "wPlLibOERU6h"
      },
      "outputs": [
        {
          "output_type": "stream",
          "name": "stdout",
          "text": [
            "accuracy_train:  0.9977765425236242\n",
            "accuracy_test:  0.3751041956098916\n"
          ]
        }
      ],
      "source": [
        "from sklearn.ensemble import RandomForestClassifier\n",
        "from sklearn.metrics import accuracy_score\n",
        "\n",
        "classifier = RandomForestClassifier(n_estimators=100, random_state = 1)\n",
        "\n",
        "classifier.fit(X_train, y_train)\n",
        "y_pred_train = classifier.predict(X_train)\n",
        "y_pred_test = classifier.predict(X_test)\n",
        "\n",
        "accuracy_train = accuracy_score(y_train, y_pred_train)\n",
        "accuracy_test = accuracy_score(y_test, y_pred_test)\n",
        "\n",
        "print('accuracy_train: ', accuracy_train)\n",
        "print('accuracy_test: ', accuracy_test)"
      ]
    },
    {
      "cell_type": "markdown",
      "source": [
        "- A base model using **Random Forest** is created to see performance of **Word2Vec** technique.\n",
        "- Next deep learning models using **LSTM RNN** shall be trained to get better model"
      ],
      "metadata": {
        "id": "PmYYIYgSKRV2"
      }
    },
    {
      "cell_type": "markdown",
      "source": [
        "# 7 **Deep Learning Model**"
      ],
      "metadata": {
        "id": "qsJCBX3wNWQ-"
      }
    },
    {
      "cell_type": "code",
      "source": [
        "from sklearn.metrics import accuracy_score, confusion_matrix, classification_report\n",
        "\n",
        "import tensorflow as tf\n",
        "from tensorflow import keras\n",
        "\n",
        "from tensorflow.keras import layers, regularizers\n",
        "from tensorflow.keras.models import Sequential\n",
        "from tensorflow.keras.layers import Embedding, LSTM, Dense, Dropout, BatchNormalization\n",
        "from tensorflow.keras.preprocessing.sequence import pad_sequences\n",
        "from tensorflow.keras.preprocessing.text import one_hot\n",
        "from tensorflow.keras import optimizers\n",
        "\n",
        "from nltk import sent_tokenize\n",
        "from gensim.utils import simple_preprocess\n",
        "import gensim\n",
        "from tqdm import tqdm"
      ],
      "metadata": {
        "id": "UfNvpgsCdtgB"
      },
      "execution_count": 40,
      "outputs": []
    },
    {
      "cell_type": "markdown",
      "source": [
        "## 7.1 OneHot representation"
      ],
      "metadata": {
        "id": "JZqX4Nh7OcXc"
      }
    },
    {
      "cell_type": "code",
      "source": [
        "##Vocabulary size:\n",
        "voc_size = 10000"
      ],
      "metadata": {
        "id": "escSwa5-el4L"
      },
      "execution_count": 41,
      "outputs": []
    },
    {
      "cell_type": "code",
      "source": [
        "words=[]\n",
        "for sent in corpus:\n",
        "    sent_token=sent_tokenize(sent)\n",
        "    for sent in sent_token:\n",
        "        words.append(simple_preprocess(sent))\n",
        "\n",
        "onehot_repr = [one_hot(words,voc_size) for words in corpus]\n"
      ],
      "metadata": {
        "id": "tScULJ9xXZmE"
      },
      "execution_count": 42,
      "outputs": []
    },
    {
      "cell_type": "code",
      "source": [
        "len(words) #no. of unique words"
      ],
      "metadata": {
        "colab": {
          "base_uri": "https://localhost:8080/"
        },
        "id": "H6rdppuqXY7r",
        "outputId": "a0c61130-00f4-4c9f-c919-c07ff010bb13"
      },
      "execution_count": 43,
      "outputs": [
        {
          "output_type": "execute_result",
          "data": {
            "text/plain": [
              "14393"
            ]
          },
          "metadata": {},
          "execution_count": 43
        }
      ]
    },
    {
      "cell_type": "markdown",
      "source": [
        "## 7.2 Embedding Representation"
      ],
      "metadata": {
        "id": "qlGrc6Q6Rr1s"
      }
    },
    {
      "cell_type": "code",
      "source": [
        "sent_length = 25\n",
        "embedded_docs = pad_sequences(onehot_repr, padding = 'pre', maxlen = sent_length)\n",
        "embedded_docs"
      ],
      "metadata": {
        "id": "UesFdxy8RTrZ",
        "colab": {
          "base_uri": "https://localhost:8080/"
        },
        "outputId": "44b400d9-b6cd-4931-b681-5ad23dd99339"
      },
      "execution_count": 44,
      "outputs": [
        {
          "output_type": "execute_result",
          "data": {
            "text/plain": [
              "array([[   0,    0,    0, ..., 9001,  275, 2917],\n",
              "       [   0,    0,    0, ..., 6355, 4331, 4136],\n",
              "       [   0,    0,    0, ..., 2115, 7424, 6123],\n",
              "       ...,\n",
              "       [   0,    0,    0, ..., 4966, 4449, 2765],\n",
              "       [   0,    0,    0, ..., 3767, 5487, 8379],\n",
              "       [   0,    0,    0, ..., 5548, 6886, 3810]], dtype=int32)"
            ]
          },
          "metadata": {},
          "execution_count": 44
        }
      ]
    },
    {
      "cell_type": "code",
      "source": [
        "y = data.Sentiment_number\n",
        "X_final = np.array(embedded_docs)\n",
        "y_final = np.array(y)"
      ],
      "metadata": {
        "id": "cc2OeqdhZxar"
      },
      "execution_count": 45,
      "outputs": []
    },
    {
      "cell_type": "code",
      "source": [
        "from sklearn.model_selection import train_test_split\n",
        "X_train, X_test, y_train, y_test = train_test_split(X_final, y_final, test_size=0.25, random_state=16, stratify = y)\n",
        "\n",
        "print(\"Shape of X train is\", X_train.shape)\n",
        "print(\"Shape of X test is\", X_test.shape)\n",
        "print(\"Shape of y train is\", y_train.shape)\n",
        "print(\"Shape of y test is\", y_test.shape)"
      ],
      "metadata": {
        "id": "C_DzTz1gZxdj",
        "colab": {
          "base_uri": "https://localhost:8080/"
        },
        "outputId": "ababca77-b5bf-49aa-b0d0-ed9d666cd946"
      },
      "execution_count": 46,
      "outputs": [
        {
          "output_type": "stream",
          "name": "stdout",
          "text": [
            "Shape of X train is (10794, 25)\n",
            "Shape of X test is (3599, 25)\n",
            "Shape of y train is (10794,)\n",
            "Shape of y test is (3599,)\n"
          ]
        }
      ]
    },
    {
      "cell_type": "markdown",
      "source": [
        "## 7.1 First Model Creation"
      ],
      "metadata": {
        "id": "Kgtow_XCZPCO"
      }
    },
    {
      "cell_type": "code",
      "source": [
        "embedding_vector_features = 50\n",
        "model = Sequential()\n",
        "model.add(Embedding(voc_size, embedding_vector_features, input_length=sent_length))\n",
        "model.add(LSTM(100))\n",
        "model.add(Dense(6, activation = 'softmax'))\n",
        "model.compile(loss = 'sparse_categorical_crossentropy', optimizer = 'adam', metrics=['accuracy'])\n",
        "print(model.summary())"
      ],
      "metadata": {
        "id": "94pvVPrlRTww",
        "colab": {
          "base_uri": "https://localhost:8080/"
        },
        "outputId": "f7881a3b-31b1-4296-b09b-51f16ab8e0ed"
      },
      "execution_count": 47,
      "outputs": [
        {
          "output_type": "stream",
          "name": "stdout",
          "text": [
            "Model: \"sequential\"\n",
            "_________________________________________________________________\n",
            " Layer (type)                Output Shape              Param #   \n",
            "=================================================================\n",
            " embedding (Embedding)       (None, 25, 50)            500000    \n",
            "                                                                 \n",
            " lstm (LSTM)                 (None, 100)               60400     \n",
            "                                                                 \n",
            " dense (Dense)               (None, 6)                 606       \n",
            "                                                                 \n",
            "=================================================================\n",
            "Total params: 561,006\n",
            "Trainable params: 561,006\n",
            "Non-trainable params: 0\n",
            "_________________________________________________________________\n",
            "None\n"
          ]
        }
      ]
    },
    {
      "cell_type": "code",
      "source": [
        "history = model.fit(X_train, y_train, validation_data=(X_test, y_test), epochs=100, batch_size = 64, verbose=1)"
      ],
      "metadata": {
        "id": "VRwD3RShRUB9",
        "colab": {
          "base_uri": "https://localhost:8080/"
        },
        "outputId": "a97d6799-b95f-4e9d-db8d-aef45000ce16"
      },
      "execution_count": 48,
      "outputs": [
        {
          "output_type": "stream",
          "name": "stdout",
          "text": [
            "Epoch 1/100\n",
            "169/169 [==============================] - 9s 10ms/step - loss: 1.4984 - accuracy: 0.4120 - val_loss: 1.1476 - val_accuracy: 0.5816\n",
            "Epoch 2/100\n",
            "169/169 [==============================] - 1s 7ms/step - loss: 0.7577 - accuracy: 0.7448 - val_loss: 0.6444 - val_accuracy: 0.7844\n",
            "Epoch 3/100\n",
            "169/169 [==============================] - 1s 7ms/step - loss: 0.3550 - accuracy: 0.8801 - val_loss: 0.5365 - val_accuracy: 0.8247\n",
            "Epoch 4/100\n",
            "169/169 [==============================] - 1s 7ms/step - loss: 0.2078 - accuracy: 0.9297 - val_loss: 0.5155 - val_accuracy: 0.8416\n",
            "Epoch 5/100\n",
            "169/169 [==============================] - 1s 7ms/step - loss: 0.1463 - accuracy: 0.9528 - val_loss: 0.5389 - val_accuracy: 0.8419\n",
            "Epoch 6/100\n",
            "169/169 [==============================] - 1s 7ms/step - loss: 0.1085 - accuracy: 0.9633 - val_loss: 0.5376 - val_accuracy: 0.8466\n",
            "Epoch 7/100\n",
            "169/169 [==============================] - 1s 8ms/step - loss: 0.0851 - accuracy: 0.9718 - val_loss: 0.5917 - val_accuracy: 0.8477\n",
            "Epoch 8/100\n",
            "169/169 [==============================] - 1s 7ms/step - loss: 0.0721 - accuracy: 0.9753 - val_loss: 0.5541 - val_accuracy: 0.8466\n",
            "Epoch 9/100\n",
            "169/169 [==============================] - 1s 7ms/step - loss: 0.0647 - accuracy: 0.9779 - val_loss: 0.6190 - val_accuracy: 0.8538\n",
            "Epoch 10/100\n",
            "169/169 [==============================] - 1s 8ms/step - loss: 0.0513 - accuracy: 0.9824 - val_loss: 0.6436 - val_accuracy: 0.8475\n",
            "Epoch 11/100\n",
            "169/169 [==============================] - 1s 8ms/step - loss: 0.0477 - accuracy: 0.9831 - val_loss: 0.7111 - val_accuracy: 0.8419\n",
            "Epoch 12/100\n",
            "169/169 [==============================] - 1s 7ms/step - loss: 0.0386 - accuracy: 0.9867 - val_loss: 0.8584 - val_accuracy: 0.8300\n",
            "Epoch 13/100\n",
            "169/169 [==============================] - 1s 8ms/step - loss: 0.0523 - accuracy: 0.9817 - val_loss: 0.7405 - val_accuracy: 0.8408\n",
            "Epoch 14/100\n",
            "169/169 [==============================] - 1s 8ms/step - loss: 0.0370 - accuracy: 0.9870 - val_loss: 0.7683 - val_accuracy: 0.8391\n",
            "Epoch 15/100\n",
            "169/169 [==============================] - 1s 7ms/step - loss: 0.0279 - accuracy: 0.9899 - val_loss: 0.7921 - val_accuracy: 0.8483\n",
            "Epoch 16/100\n",
            "169/169 [==============================] - 1s 8ms/step - loss: 0.0258 - accuracy: 0.9905 - val_loss: 0.8285 - val_accuracy: 0.8416\n",
            "Epoch 17/100\n",
            "169/169 [==============================] - 1s 7ms/step - loss: 0.0250 - accuracy: 0.9906 - val_loss: 0.7963 - val_accuracy: 0.8319\n",
            "Epoch 18/100\n",
            "169/169 [==============================] - 1s 7ms/step - loss: 0.0271 - accuracy: 0.9910 - val_loss: 0.8151 - val_accuracy: 0.8355\n",
            "Epoch 19/100\n",
            "169/169 [==============================] - 1s 7ms/step - loss: 0.0253 - accuracy: 0.9899 - val_loss: 0.9175 - val_accuracy: 0.8325\n",
            "Epoch 20/100\n",
            "169/169 [==============================] - 1s 8ms/step - loss: 0.0347 - accuracy: 0.9878 - val_loss: 0.7525 - val_accuracy: 0.8238\n",
            "Epoch 21/100\n",
            "169/169 [==============================] - 1s 8ms/step - loss: 0.0314 - accuracy: 0.9888 - val_loss: 0.8408 - val_accuracy: 0.8355\n",
            "Epoch 22/100\n",
            "169/169 [==============================] - 1s 7ms/step - loss: 0.0227 - accuracy: 0.9922 - val_loss: 0.8127 - val_accuracy: 0.8422\n",
            "Epoch 23/100\n",
            "169/169 [==============================] - 1s 8ms/step - loss: 0.0170 - accuracy: 0.9936 - val_loss: 0.9549 - val_accuracy: 0.8336\n",
            "Epoch 24/100\n",
            "169/169 [==============================] - 1s 7ms/step - loss: 0.0135 - accuracy: 0.9949 - val_loss: 1.0049 - val_accuracy: 0.8361\n",
            "Epoch 25/100\n",
            "169/169 [==============================] - 1s 8ms/step - loss: 0.0145 - accuracy: 0.9945 - val_loss: 0.9308 - val_accuracy: 0.8391\n",
            "Epoch 26/100\n",
            "169/169 [==============================] - 1s 7ms/step - loss: 0.0121 - accuracy: 0.9950 - val_loss: 1.0573 - val_accuracy: 0.8338\n",
            "Epoch 27/100\n",
            "169/169 [==============================] - 1s 7ms/step - loss: 0.0120 - accuracy: 0.9951 - val_loss: 1.0732 - val_accuracy: 0.8380\n",
            "Epoch 28/100\n",
            "169/169 [==============================] - 1s 8ms/step - loss: 0.0110 - accuracy: 0.9963 - val_loss: 1.0261 - val_accuracy: 0.8366\n",
            "Epoch 29/100\n",
            "169/169 [==============================] - 1s 8ms/step - loss: 0.0160 - accuracy: 0.9939 - val_loss: 1.0641 - val_accuracy: 0.8366\n",
            "Epoch 30/100\n",
            "169/169 [==============================] - 1s 7ms/step - loss: 0.0334 - accuracy: 0.9891 - val_loss: 0.8243 - val_accuracy: 0.8319\n",
            "Epoch 31/100\n",
            "169/169 [==============================] - 1s 8ms/step - loss: 0.0329 - accuracy: 0.9895 - val_loss: 0.9112 - val_accuracy: 0.8252\n",
            "Epoch 32/100\n",
            "169/169 [==============================] - 1s 7ms/step - loss: 0.0211 - accuracy: 0.9930 - val_loss: 0.8945 - val_accuracy: 0.8380\n",
            "Epoch 33/100\n",
            "169/169 [==============================] - 1s 7ms/step - loss: 0.0183 - accuracy: 0.9937 - val_loss: 0.9039 - val_accuracy: 0.8380\n",
            "Epoch 34/100\n",
            "169/169 [==============================] - 1s 7ms/step - loss: 0.0135 - accuracy: 0.9953 - val_loss: 0.9567 - val_accuracy: 0.8419\n",
            "Epoch 35/100\n",
            "169/169 [==============================] - 1s 7ms/step - loss: 0.0202 - accuracy: 0.9933 - val_loss: 0.8459 - val_accuracy: 0.8344\n",
            "Epoch 36/100\n",
            "169/169 [==============================] - 1s 7ms/step - loss: 0.0124 - accuracy: 0.9951 - val_loss: 0.9842 - val_accuracy: 0.8383\n",
            "Epoch 37/100\n",
            "169/169 [==============================] - 1s 8ms/step - loss: 0.0104 - accuracy: 0.9957 - val_loss: 1.0261 - val_accuracy: 0.8366\n",
            "Epoch 38/100\n",
            "169/169 [==============================] - 1s 7ms/step - loss: 0.0100 - accuracy: 0.9961 - val_loss: 1.0174 - val_accuracy: 0.8377\n",
            "Epoch 39/100\n",
            "169/169 [==============================] - 1s 8ms/step - loss: 0.0093 - accuracy: 0.9963 - val_loss: 1.0125 - val_accuracy: 0.8383\n",
            "Epoch 40/100\n",
            "169/169 [==============================] - 2s 10ms/step - loss: 0.0090 - accuracy: 0.9964 - val_loss: 1.0636 - val_accuracy: 0.8347\n",
            "Epoch 41/100\n",
            "169/169 [==============================] - 2s 10ms/step - loss: 0.0085 - accuracy: 0.9966 - val_loss: 1.0799 - val_accuracy: 0.8372\n",
            "Epoch 42/100\n",
            "169/169 [==============================] - 1s 8ms/step - loss: 0.0081 - accuracy: 0.9966 - val_loss: 1.1175 - val_accuracy: 0.8369\n",
            "Epoch 43/100\n",
            "169/169 [==============================] - 1s 7ms/step - loss: 0.0087 - accuracy: 0.9967 - val_loss: 1.1659 - val_accuracy: 0.8375\n",
            "Epoch 44/100\n",
            "169/169 [==============================] - 1s 7ms/step - loss: 0.0085 - accuracy: 0.9961 - val_loss: 1.0947 - val_accuracy: 0.8400\n",
            "Epoch 45/100\n",
            "169/169 [==============================] - 1s 7ms/step - loss: 0.0121 - accuracy: 0.9951 - val_loss: 1.0317 - val_accuracy: 0.8336\n",
            "Epoch 46/100\n",
            "169/169 [==============================] - 1s 7ms/step - loss: 0.0093 - accuracy: 0.9964 - val_loss: 1.1659 - val_accuracy: 0.8338\n",
            "Epoch 47/100\n",
            "169/169 [==============================] - 1s 8ms/step - loss: 0.0073 - accuracy: 0.9967 - val_loss: 1.2256 - val_accuracy: 0.8350\n",
            "Epoch 48/100\n",
            "169/169 [==============================] - 1s 8ms/step - loss: 0.0093 - accuracy: 0.9960 - val_loss: 1.2137 - val_accuracy: 0.8305\n",
            "Epoch 49/100\n",
            "169/169 [==============================] - 1s 7ms/step - loss: 0.0402 - accuracy: 0.9865 - val_loss: 0.8582 - val_accuracy: 0.8313\n",
            "Epoch 50/100\n",
            "169/169 [==============================] - 1s 8ms/step - loss: 0.0183 - accuracy: 0.9927 - val_loss: 0.9910 - val_accuracy: 0.8325\n",
            "Epoch 51/100\n",
            "169/169 [==============================] - 2s 10ms/step - loss: 0.0101 - accuracy: 0.9956 - val_loss: 1.0861 - val_accuracy: 0.8341\n",
            "Epoch 52/100\n",
            "169/169 [==============================] - 2s 10ms/step - loss: 0.0100 - accuracy: 0.9956 - val_loss: 1.1102 - val_accuracy: 0.8369\n",
            "Epoch 53/100\n",
            "169/169 [==============================] - 1s 8ms/step - loss: 0.0093 - accuracy: 0.9963 - val_loss: 1.0270 - val_accuracy: 0.8352\n",
            "Epoch 54/100\n",
            "169/169 [==============================] - 1s 8ms/step - loss: 0.0092 - accuracy: 0.9963 - val_loss: 1.1043 - val_accuracy: 0.8316\n",
            "Epoch 55/100\n",
            "169/169 [==============================] - 1s 7ms/step - loss: 0.0085 - accuracy: 0.9962 - val_loss: 1.1192 - val_accuracy: 0.8330\n",
            "Epoch 56/100\n",
            "169/169 [==============================] - 1s 7ms/step - loss: 0.0075 - accuracy: 0.9966 - val_loss: 1.1196 - val_accuracy: 0.8352\n",
            "Epoch 57/100\n",
            "169/169 [==============================] - 1s 8ms/step - loss: 0.0070 - accuracy: 0.9961 - val_loss: 1.1566 - val_accuracy: 0.8336\n",
            "Epoch 58/100\n",
            "169/169 [==============================] - 1s 8ms/step - loss: 0.0069 - accuracy: 0.9968 - val_loss: 1.1897 - val_accuracy: 0.8341\n",
            "Epoch 59/100\n",
            "169/169 [==============================] - 1s 7ms/step - loss: 0.0079 - accuracy: 0.9964 - val_loss: 1.0595 - val_accuracy: 0.8372\n",
            "Epoch 60/100\n",
            "169/169 [==============================] - 1s 8ms/step - loss: 0.0074 - accuracy: 0.9964 - val_loss: 1.1893 - val_accuracy: 0.8316\n",
            "Epoch 61/100\n",
            "169/169 [==============================] - 1s 8ms/step - loss: 0.0071 - accuracy: 0.9966 - val_loss: 1.2413 - val_accuracy: 0.8302\n",
            "Epoch 62/100\n",
            "169/169 [==============================] - 1s 8ms/step - loss: 0.0069 - accuracy: 0.9965 - val_loss: 1.2682 - val_accuracy: 0.8327\n",
            "Epoch 63/100\n",
            "169/169 [==============================] - 1s 8ms/step - loss: 0.0069 - accuracy: 0.9962 - val_loss: 1.2159 - val_accuracy: 0.8336\n",
            "Epoch 64/100\n",
            "169/169 [==============================] - 1s 8ms/step - loss: 0.0146 - accuracy: 0.9937 - val_loss: 1.0582 - val_accuracy: 0.8366\n",
            "Epoch 65/100\n",
            "169/169 [==============================] - 1s 7ms/step - loss: 0.0194 - accuracy: 0.9932 - val_loss: 0.9964 - val_accuracy: 0.8375\n",
            "Epoch 66/100\n",
            "169/169 [==============================] - 1s 7ms/step - loss: 0.0120 - accuracy: 0.9944 - val_loss: 1.0313 - val_accuracy: 0.8372\n",
            "Epoch 67/100\n",
            "169/169 [==============================] - 1s 7ms/step - loss: 0.0077 - accuracy: 0.9968 - val_loss: 1.0557 - val_accuracy: 0.8344\n",
            "Epoch 68/100\n",
            "169/169 [==============================] - 1s 8ms/step - loss: 0.0066 - accuracy: 0.9963 - val_loss: 1.1050 - val_accuracy: 0.8341\n",
            "Epoch 69/100\n",
            "169/169 [==============================] - 1s 8ms/step - loss: 0.0061 - accuracy: 0.9966 - val_loss: 1.1354 - val_accuracy: 0.8355\n",
            "Epoch 70/100\n",
            "169/169 [==============================] - 1s 8ms/step - loss: 0.0060 - accuracy: 0.9969 - val_loss: 1.2145 - val_accuracy: 0.8316\n",
            "Epoch 71/100\n",
            "169/169 [==============================] - 1s 8ms/step - loss: 0.0062 - accuracy: 0.9966 - val_loss: 1.2441 - val_accuracy: 0.8352\n",
            "Epoch 72/100\n",
            "169/169 [==============================] - 1s 7ms/step - loss: 0.0064 - accuracy: 0.9967 - val_loss: 1.2045 - val_accuracy: 0.8325\n",
            "Epoch 73/100\n",
            "169/169 [==============================] - 1s 7ms/step - loss: 0.0063 - accuracy: 0.9967 - val_loss: 1.2141 - val_accuracy: 0.8330\n",
            "Epoch 74/100\n",
            "169/169 [==============================] - 1s 8ms/step - loss: 0.0059 - accuracy: 0.9964 - val_loss: 1.2152 - val_accuracy: 0.8316\n",
            "Epoch 75/100\n",
            "169/169 [==============================] - 1s 7ms/step - loss: 0.0059 - accuracy: 0.9969 - val_loss: 1.2489 - val_accuracy: 0.8333\n",
            "Epoch 76/100\n",
            "169/169 [==============================] - 1s 7ms/step - loss: 0.0055 - accuracy: 0.9969 - val_loss: 1.2048 - val_accuracy: 0.8288\n",
            "Epoch 77/100\n",
            "169/169 [==============================] - 1s 7ms/step - loss: 0.0065 - accuracy: 0.9963 - val_loss: 1.2139 - val_accuracy: 0.8286\n",
            "Epoch 78/100\n",
            "169/169 [==============================] - 1s 7ms/step - loss: 0.0076 - accuracy: 0.9959 - val_loss: 1.1921 - val_accuracy: 0.8225\n",
            "Epoch 79/100\n",
            "169/169 [==============================] - 1s 8ms/step - loss: 0.0210 - accuracy: 0.9922 - val_loss: 0.9975 - val_accuracy: 0.8272\n",
            "Epoch 80/100\n",
            "169/169 [==============================] - 1s 7ms/step - loss: 0.0145 - accuracy: 0.9939 - val_loss: 1.1026 - val_accuracy: 0.8263\n",
            "Epoch 81/100\n",
            "169/169 [==============================] - 1s 7ms/step - loss: 0.0077 - accuracy: 0.9964 - val_loss: 1.1096 - val_accuracy: 0.8316\n",
            "Epoch 82/100\n",
            "169/169 [==============================] - 1s 8ms/step - loss: 0.0067 - accuracy: 0.9966 - val_loss: 1.1311 - val_accuracy: 0.8308\n",
            "Epoch 83/100\n",
            "169/169 [==============================] - 1s 8ms/step - loss: 0.0061 - accuracy: 0.9962 - val_loss: 1.1903 - val_accuracy: 0.8275\n",
            "Epoch 84/100\n",
            "169/169 [==============================] - 1s 7ms/step - loss: 0.0061 - accuracy: 0.9968 - val_loss: 1.1811 - val_accuracy: 0.8297\n",
            "Epoch 85/100\n",
            "169/169 [==============================] - 1s 7ms/step - loss: 0.0055 - accuracy: 0.9966 - val_loss: 1.2199 - val_accuracy: 0.8300\n",
            "Epoch 86/100\n",
            "169/169 [==============================] - 1s 7ms/step - loss: 0.0056 - accuracy: 0.9965 - val_loss: 1.2209 - val_accuracy: 0.8277\n",
            "Epoch 87/100\n",
            "169/169 [==============================] - 1s 8ms/step - loss: 0.0056 - accuracy: 0.9967 - val_loss: 1.2355 - val_accuracy: 0.8277\n",
            "Epoch 88/100\n",
            "169/169 [==============================] - 1s 7ms/step - loss: 0.0051 - accuracy: 0.9969 - val_loss: 1.2661 - val_accuracy: 0.8300\n",
            "Epoch 89/100\n",
            "169/169 [==============================] - 1s 8ms/step - loss: 0.0055 - accuracy: 0.9971 - val_loss: 1.2367 - val_accuracy: 0.8272\n",
            "Epoch 90/100\n",
            "169/169 [==============================] - 1s 8ms/step - loss: 0.0057 - accuracy: 0.9960 - val_loss: 1.2835 - val_accuracy: 0.8244\n",
            "Epoch 91/100\n",
            "169/169 [==============================] - 1s 7ms/step - loss: 0.0054 - accuracy: 0.9971 - val_loss: 1.2819 - val_accuracy: 0.8258\n",
            "Epoch 92/100\n",
            "169/169 [==============================] - 1s 7ms/step - loss: 0.0050 - accuracy: 0.9970 - val_loss: 1.3454 - val_accuracy: 0.8263\n",
            "Epoch 93/100\n",
            "169/169 [==============================] - 1s 8ms/step - loss: 0.0051 - accuracy: 0.9969 - val_loss: 1.3198 - val_accuracy: 0.8280\n",
            "Epoch 94/100\n",
            "169/169 [==============================] - 1s 7ms/step - loss: 0.0054 - accuracy: 0.9967 - val_loss: 1.3237 - val_accuracy: 0.8269\n",
            "Epoch 95/100\n",
            "169/169 [==============================] - 1s 8ms/step - loss: 0.0051 - accuracy: 0.9968 - val_loss: 1.3422 - val_accuracy: 0.8275\n",
            "Epoch 96/100\n",
            "169/169 [==============================] - 1s 7ms/step - loss: 0.0052 - accuracy: 0.9968 - val_loss: 1.4001 - val_accuracy: 0.8233\n",
            "Epoch 97/100\n",
            "169/169 [==============================] - 1s 7ms/step - loss: 0.0053 - accuracy: 0.9969 - val_loss: 1.3960 - val_accuracy: 0.8233\n",
            "Epoch 98/100\n",
            "169/169 [==============================] - 1s 7ms/step - loss: 0.0050 - accuracy: 0.9971 - val_loss: 1.3862 - val_accuracy: 0.8247\n",
            "Epoch 99/100\n",
            "169/169 [==============================] - 1s 8ms/step - loss: 0.0098 - accuracy: 0.9962 - val_loss: 1.2521 - val_accuracy: 0.8297\n",
            "Epoch 100/100\n",
            "169/169 [==============================] - 1s 7ms/step - loss: 0.0202 - accuracy: 0.9930 - val_loss: 1.0168 - val_accuracy: 0.8308\n"
          ]
        }
      ]
    },
    {
      "cell_type": "code",
      "execution_count": 49,
      "metadata": {
        "colab": {
          "base_uri": "https://localhost:8080/"
        },
        "outputId": "cc80b432-33cc-43b0-9a77-953ae30857ba",
        "id": "CUGioupNZGBl"
      },
      "outputs": [
        {
          "output_type": "stream",
          "name": "stdout",
          "text": [
            "accuracy_train:  0.9949045766166389\n",
            "accuracy_test:  0.8307863295359822\n"
          ]
        }
      ],
      "source": [
        "y_pred_train_prob = model.predict(X_train)\n",
        "y_pred_test_prob = model.predict(X_test)\n",
        "\n",
        "y_pred_train = np.argmax(y_pred_train_prob,axis=1)\n",
        "y_pred_test= np.argmax(y_pred_test_prob,axis=1)\n",
        "\n",
        "accuracy_train = accuracy_score(y_train, y_pred_train)\n",
        "accuracy_test = accuracy_score(y_test, y_pred_test)\n",
        "\n",
        "print('accuracy_train: ', accuracy_train)\n",
        "print('accuracy_test: ', accuracy_test)\n"
      ]
    },
    {
      "cell_type": "code",
      "execution_count": 50,
      "metadata": {
        "colab": {
          "base_uri": "https://localhost:8080/",
          "height": 334
        },
        "outputId": "7d7e072b-5112-4f47-96f1-e940edef9150",
        "id": "p412lBgLZGBl"
      },
      "outputs": [
        {
          "output_type": "display_data",
          "data": {
            "text/plain": [
              "<Figure size 1296x360 with 2 Axes>"
            ],
            "image/png": "[encoded data removed]"
          },
          "metadata": {
            "needs_background": "light"
          }
        }
      ],
      "source": [
        "fig, ((ax1, ax2)) = plt.subplots(1, 2, figsize=(18,5))\n",
        "\n",
        "training_loss = history.history['loss']\n",
        "val_loss = history.history['val_loss']\n",
        "\n",
        "# Create count of the number of epochs\n",
        "epoch_count = range(1, len(training_loss) + 1)\n",
        "\n",
        "# Visualize loss history\n",
        "ax1.plot(epoch_count, training_loss, 'r-')\n",
        "ax1.plot(epoch_count, val_loss, 'b-')\n",
        "ax1.legend(['Training Loss', 'Val Loss'])\n",
        "ax1.set_xlabel('Epoch')\n",
        "ax1.set_ylabel('Loss')\n",
        "\n",
        "training_acc = history.history['accuracy']\n",
        "val_acc = history.history['val_accuracy']\n",
        "\n",
        "# Create count of the number of epochs\n",
        "epoch_count = range(1, len(training_acc) + 1)\n",
        "\n",
        "# Visualize loss history\n",
        "ax2.plot(epoch_count, training_acc, 'r-')\n",
        "ax2.plot(epoch_count, val_acc, 'b-')\n",
        "ax2.legend(['Training Accuracy', 'Val Accuracy'])\n",
        "ax2.set_xlabel('Epoch')\n",
        "ax2.set_ylabel('Accuracy')\n",
        "\n",
        "plt.show();"
      ]
    },
    {
      "cell_type": "markdown",
      "source": [
        "## 7.4 Improving Model Performance"
      ],
      "metadata": {
        "id": "zATutvBNdOlp"
      }
    },
    {
      "cell_type": "markdown",
      "source": [
        "### BN & Dropout"
      ],
      "metadata": {
        "id": "h7QtCrH-dWzp"
      }
    },
    {
      "cell_type": "code",
      "source": [
        "embedding_vector_features = 50\n",
        "model = Sequential()\n",
        "model.add(Embedding(voc_size, embedding_vector_features, input_length=sent_length))\n",
        "model.add(BatchNormalization())\n",
        "model.add(Dropout(0.3))\n",
        "model.add(LSTM(100))\n",
        "model.add(BatchNormalization())\n",
        "model.add(Dropout(0.3))\n",
        "model.add(Dense(6, activation = 'softmax'))\n",
        "model.compile(loss = 'sparse_categorical_crossentropy', optimizer = 'adam', metrics=['accuracy'])\n",
        "print(model.summary())"
      ],
      "metadata": {
        "id": "OAwkJ8pzRUJn",
        "colab": {
          "base_uri": "https://localhost:8080/"
        },
        "outputId": "3aba31a8-9cc3-44ad-c253-bcf41a7b8585"
      },
      "execution_count": null,
      "outputs": [
        {
          "output_type": "stream",
          "name": "stdout",
          "text": [
            "Model: \"sequential_1\"\n",
            "_________________________________________________________________\n",
            " Layer (type)                Output Shape              Param #   \n",
            "=================================================================\n",
            " embedding_1 (Embedding)     (None, 40, 50)            250000    \n",
            "                                                                 \n",
            " batch_normalization_2 (Batc  (None, 40, 50)           200       \n",
            " hNormalization)                                                 \n",
            "                                                                 \n",
            " dropout_2 (Dropout)         (None, 40, 50)            0         \n",
            "                                                                 \n",
            " lstm_1 (LSTM)               (None, 1000)              4204000   \n",
            "                                                                 \n",
            " batch_normalization_3 (Batc  (None, 1000)             4000      \n",
            " hNormalization)                                                 \n",
            "                                                                 \n",
            " dropout_3 (Dropout)         (None, 1000)              0         \n",
            "                                                                 \n",
            " dense_1 (Dense)             (None, 6)                 6006      \n",
            "                                                                 \n",
            "=================================================================\n",
            "Total params: 4,464,206\n",
            "Trainable params: 4,462,106\n",
            "Non-trainable params: 2,100\n",
            "_________________________________________________________________\n",
            "None\n"
          ]
        }
      ]
    },
    {
      "cell_type": "code",
      "source": [
        "es = tf.keras.callbacks.EarlyStopping(monitor=\"val_loss\",min_delta=0.001,patience=30)"
      ],
      "metadata": {
        "id": "TmgmuG-5RUL-"
      },
      "execution_count": null,
      "outputs": []
    },
    {
      "cell_type": "code",
      "source": [
        "history = model.fit(X_train, y_train, validation_data=(X_test, y_test), epochs=100, batch_size = 16, verbose=1, callbacks = [es])"
      ],
      "metadata": {
        "id": "sdKtPR-jL9wK",
        "colab": {
          "base_uri": "https://localhost:8080/"
        },
        "outputId": "5fae81fd-7afd-446d-ee79-cc04a5f549f4"
      },
      "execution_count": null,
      "outputs": [
        {
          "output_type": "stream",
          "name": "stdout",
          "text": [
            "Epoch 1/100\n",
            "675/675 [==============================] - 14s 18ms/step - loss: 1.9053 - accuracy: 0.3038 - val_loss: 2.1437 - val_accuracy: 0.2986\n",
            "Epoch 2/100\n",
            "675/675 [==============================] - 10s 15ms/step - loss: 1.6924 - accuracy: 0.3861 - val_loss: 1.7753 - val_accuracy: 0.3400\n",
            "Epoch 3/100\n",
            "675/675 [==============================] - 10s 15ms/step - loss: 1.5372 - accuracy: 0.4555 - val_loss: 1.6523 - val_accuracy: 0.4014\n",
            "Epoch 4/100\n",
            "675/675 [==============================] - 10s 15ms/step - loss: 1.3831 - accuracy: 0.5131 - val_loss: 2.2834 - val_accuracy: 0.2022\n",
            "Epoch 5/100\n",
            "675/675 [==============================] - 10s 16ms/step - loss: 1.3200 - accuracy: 0.5400 - val_loss: 1.7226 - val_accuracy: 0.3625\n",
            "Epoch 6/100\n",
            "675/675 [==============================] - 11s 16ms/step - loss: 1.0676 - accuracy: 0.6444 - val_loss: 1.8879 - val_accuracy: 0.4394\n",
            "Epoch 7/100\n",
            "675/675 [==============================] - 11s 16ms/step - loss: 0.8931 - accuracy: 0.7123 - val_loss: 1.3642 - val_accuracy: 0.5697\n",
            "Epoch 8/100\n",
            "675/675 [==============================] - 10s 15ms/step - loss: 0.7592 - accuracy: 0.7572 - val_loss: 1.4193 - val_accuracy: 0.5875\n",
            "Epoch 9/100\n",
            "675/675 [==============================] - 11s 16ms/step - loss: 0.6895 - accuracy: 0.7799 - val_loss: 1.6519 - val_accuracy: 0.5975\n",
            "Epoch 10/100\n",
            "675/675 [==============================] - 11s 16ms/step - loss: 0.6431 - accuracy: 0.7958 - val_loss: 1.2442 - val_accuracy: 0.6542\n",
            "Epoch 11/100\n",
            "675/675 [==============================] - 10s 16ms/step - loss: 0.5927 - accuracy: 0.8070 - val_loss: 1.1032 - val_accuracy: 0.6925\n",
            "Epoch 12/100\n",
            "675/675 [==============================] - 11s 16ms/step - loss: 0.5414 - accuracy: 0.8269 - val_loss: 1.0147 - val_accuracy: 0.7072\n",
            "Epoch 13/100\n",
            "675/675 [==============================] - 11s 16ms/step - loss: 0.4930 - accuracy: 0.8346 - val_loss: 0.9046 - val_accuracy: 0.7369\n",
            "Epoch 14/100\n",
            "675/675 [==============================] - 11s 16ms/step - loss: 0.4278 - accuracy: 0.8544 - val_loss: 0.8171 - val_accuracy: 0.7417\n",
            "Epoch 15/100\n",
            "675/675 [==============================] - 11s 16ms/step - loss: 0.3759 - accuracy: 0.8720 - val_loss: 0.8204 - val_accuracy: 0.7642\n",
            "Epoch 16/100\n",
            "675/675 [==============================] - 11s 16ms/step - loss: 0.4286 - accuracy: 0.8719 - val_loss: 1.1624 - val_accuracy: 0.7272\n",
            "Epoch 17/100\n",
            "675/675 [==============================] - 11s 16ms/step - loss: 0.5207 - accuracy: 0.8638 - val_loss: 1.0729 - val_accuracy: 0.6981\n",
            "Epoch 18/100\n",
            "675/675 [==============================] - 11s 16ms/step - loss: 0.4370 - accuracy: 0.8728 - val_loss: 1.3221 - val_accuracy: 0.6317\n",
            "Epoch 19/100\n",
            "675/675 [==============================] - 11s 16ms/step - loss: 0.4035 - accuracy: 0.8811 - val_loss: 1.0235 - val_accuracy: 0.7236\n",
            "Epoch 20/100\n",
            "675/675 [==============================] - 11s 16ms/step - loss: 0.3645 - accuracy: 0.8886 - val_loss: 0.8862 - val_accuracy: 0.7697\n",
            "Epoch 21/100\n",
            "675/675 [==============================] - 11s 16ms/step - loss: 0.3419 - accuracy: 0.8971 - val_loss: 1.1228 - val_accuracy: 0.7186\n",
            "Epoch 22/100\n",
            "675/675 [==============================] - 11s 16ms/step - loss: 0.3013 - accuracy: 0.9081 - val_loss: 0.9002 - val_accuracy: 0.7761\n",
            "Epoch 23/100\n",
            "675/675 [==============================] - 12s 18ms/step - loss: 0.2979 - accuracy: 0.9108 - val_loss: 0.9452 - val_accuracy: 0.7631\n",
            "Epoch 24/100\n",
            "675/675 [==============================] - 11s 16ms/step - loss: 0.2832 - accuracy: 0.9164 - val_loss: 0.9063 - val_accuracy: 0.7831\n",
            "Epoch 25/100\n",
            "675/675 [==============================] - 11s 16ms/step - loss: 0.2563 - accuracy: 0.9208 - val_loss: 0.9201 - val_accuracy: 0.7975\n",
            "Epoch 26/100\n",
            "675/675 [==============================] - 11s 16ms/step - loss: 0.2375 - accuracy: 0.9283 - val_loss: 0.8085 - val_accuracy: 0.7944\n",
            "Epoch 27/100\n",
            "675/675 [==============================] - 11s 16ms/step - loss: 0.2126 - accuracy: 0.9333 - val_loss: 0.8643 - val_accuracy: 0.7911\n",
            "Epoch 28/100\n",
            "675/675 [==============================] - 11s 16ms/step - loss: 0.2136 - accuracy: 0.9331 - val_loss: 0.9449 - val_accuracy: 0.7911\n",
            "Epoch 29/100\n",
            "675/675 [==============================] - 11s 16ms/step - loss: 0.2119 - accuracy: 0.9354 - val_loss: 0.9504 - val_accuracy: 0.7914\n",
            "Epoch 30/100\n",
            "675/675 [==============================] - 11s 16ms/step - loss: 0.1914 - accuracy: 0.9396 - val_loss: 0.9874 - val_accuracy: 0.7983\n",
            "Epoch 31/100\n",
            "675/675 [==============================] - 11s 16ms/step - loss: 0.1937 - accuracy: 0.9411 - val_loss: 0.9507 - val_accuracy: 0.8072\n",
            "Epoch 32/100\n",
            "675/675 [==============================] - 11s 16ms/step - loss: 0.5058 - accuracy: 0.8307 - val_loss: 1.0037 - val_accuracy: 0.7114\n",
            "Epoch 33/100\n",
            "675/675 [==============================] - 11s 16ms/step - loss: 0.3246 - accuracy: 0.8944 - val_loss: 0.7079 - val_accuracy: 0.7986\n",
            "Epoch 34/100\n",
            "675/675 [==============================] - 11s 16ms/step - loss: 0.2537 - accuracy: 0.9132 - val_loss: 0.6675 - val_accuracy: 0.8042\n",
            "Epoch 35/100\n",
            "675/675 [==============================] - 11s 16ms/step - loss: 0.2287 - accuracy: 0.9232 - val_loss: 1.1241 - val_accuracy: 0.7106\n",
            "Epoch 36/100\n",
            "675/675 [==============================] - 11s 16ms/step - loss: 0.1964 - accuracy: 0.9343 - val_loss: 0.7644 - val_accuracy: 0.8122\n",
            "Epoch 37/100\n",
            "675/675 [==============================] - 11s 16ms/step - loss: 0.2028 - accuracy: 0.9350 - val_loss: 0.7785 - val_accuracy: 0.8133\n",
            "Epoch 38/100\n",
            "675/675 [==============================] - 11s 16ms/step - loss: 0.1806 - accuracy: 0.9387 - val_loss: 0.6451 - val_accuracy: 0.8239\n",
            "Epoch 39/100\n",
            "675/675 [==============================] - 11s 16ms/step - loss: 0.1742 - accuracy: 0.9400 - val_loss: 0.7449 - val_accuracy: 0.8150\n",
            "Epoch 40/100\n",
            "675/675 [==============================] - 11s 16ms/step - loss: 0.1568 - accuracy: 0.9434 - val_loss: 0.7968 - val_accuracy: 0.8011\n",
            "Epoch 41/100\n",
            "675/675 [==============================] - 11s 16ms/step - loss: 0.1491 - accuracy: 0.9502 - val_loss: 0.9168 - val_accuracy: 0.7708\n",
            "Epoch 42/100\n",
            "675/675 [==============================] - 11s 16ms/step - loss: 0.1659 - accuracy: 0.9423 - val_loss: 0.7369 - val_accuracy: 0.8097\n",
            "Epoch 43/100\n",
            "675/675 [==============================] - 11s 16ms/step - loss: 0.1516 - accuracy: 0.9511 - val_loss: 0.9165 - val_accuracy: 0.7972\n",
            "Epoch 44/100\n",
            "675/675 [==============================] - 11s 16ms/step - loss: 0.1727 - accuracy: 0.9424 - val_loss: 0.6946 - val_accuracy: 0.8281\n",
            "Epoch 45/100\n",
            "675/675 [==============================] - 11s 16ms/step - loss: 0.1435 - accuracy: 0.9525 - val_loss: 0.8624 - val_accuracy: 0.7931\n",
            "Epoch 46/100\n",
            "675/675 [==============================] - 11s 16ms/step - loss: 0.1267 - accuracy: 0.9589 - val_loss: 0.7303 - val_accuracy: 0.8258\n",
            "Epoch 47/100\n",
            "675/675 [==============================] - 11s 16ms/step - loss: 0.1271 - accuracy: 0.9566 - val_loss: 0.8775 - val_accuracy: 0.8017\n",
            "Epoch 48/100\n",
            "675/675 [==============================] - 11s 16ms/step - loss: 0.1311 - accuracy: 0.9558 - val_loss: 0.8379 - val_accuracy: 0.8133\n",
            "Epoch 49/100\n",
            "675/675 [==============================] - 11s 16ms/step - loss: 0.1105 - accuracy: 0.9620 - val_loss: 0.8026 - val_accuracy: 0.8192\n",
            "Epoch 50/100\n",
            "675/675 [==============================] - 11s 16ms/step - loss: 0.1194 - accuracy: 0.9591 - val_loss: 1.5736 - val_accuracy: 0.7047\n",
            "Epoch 51/100\n",
            "675/675 [==============================] - 11s 16ms/step - loss: 0.1167 - accuracy: 0.9594 - val_loss: 0.9239 - val_accuracy: 0.8050\n",
            "Epoch 52/100\n",
            "675/675 [==============================] - 11s 16ms/step - loss: 0.1227 - accuracy: 0.9600 - val_loss: 0.8535 - val_accuracy: 0.8136\n",
            "Epoch 53/100\n",
            "675/675 [==============================] - 11s 16ms/step - loss: 0.1203 - accuracy: 0.9587 - val_loss: 0.8131 - val_accuracy: 0.8269\n",
            "Epoch 54/100\n",
            "675/675 [==============================] - 11s 16ms/step - loss: 0.1022 - accuracy: 0.9650 - val_loss: 0.8926 - val_accuracy: 0.8206\n",
            "Epoch 55/100\n",
            "675/675 [==============================] - 11s 16ms/step - loss: 0.1177 - accuracy: 0.9619 - val_loss: 0.8609 - val_accuracy: 0.8181\n",
            "Epoch 56/100\n",
            "675/675 [==============================] - 11s 16ms/step - loss: 0.1019 - accuracy: 0.9661 - val_loss: 0.7715 - val_accuracy: 0.8314\n",
            "Epoch 57/100\n",
            "675/675 [==============================] - 11s 16ms/step - loss: 0.0989 - accuracy: 0.9675 - val_loss: 0.7182 - val_accuracy: 0.8339\n",
            "Epoch 58/100\n",
            "675/675 [==============================] - 11s 16ms/step - loss: 0.0948 - accuracy: 0.9669 - val_loss: 0.8013 - val_accuracy: 0.8233\n",
            "Epoch 59/100\n",
            "675/675 [==============================] - 11s 16ms/step - loss: 0.1002 - accuracy: 0.9673 - val_loss: 0.8042 - val_accuracy: 0.8292\n",
            "Epoch 60/100\n",
            "675/675 [==============================] - 11s 16ms/step - loss: 0.0898 - accuracy: 0.9698 - val_loss: 0.8679 - val_accuracy: 0.8292\n",
            "Epoch 61/100\n",
            "675/675 [==============================] - 11s 16ms/step - loss: 0.0894 - accuracy: 0.9711 - val_loss: 0.7520 - val_accuracy: 0.8372\n",
            "Epoch 62/100\n",
            "675/675 [==============================] - 11s 16ms/step - loss: 0.0846 - accuracy: 0.9722 - val_loss: 0.8334 - val_accuracy: 0.8247\n",
            "Epoch 63/100\n",
            "675/675 [==============================] - 11s 16ms/step - loss: 0.0860 - accuracy: 0.9712 - val_loss: 0.8745 - val_accuracy: 0.8339\n",
            "Epoch 64/100\n",
            "675/675 [==============================] - 11s 16ms/step - loss: 0.0853 - accuracy: 0.9706 - val_loss: 0.8090 - val_accuracy: 0.8383\n",
            "Epoch 65/100\n",
            "675/675 [==============================] - 11s 16ms/step - loss: 0.0754 - accuracy: 0.9748 - val_loss: 0.7891 - val_accuracy: 0.8475\n",
            "Epoch 66/100\n",
            "675/675 [==============================] - 11s 16ms/step - loss: 0.0772 - accuracy: 0.9751 - val_loss: 0.8071 - val_accuracy: 0.8383\n",
            "Epoch 67/100\n",
            "675/675 [==============================] - 11s 16ms/step - loss: 0.0780 - accuracy: 0.9757 - val_loss: 0.8248 - val_accuracy: 0.8333\n",
            "Epoch 68/100\n",
            "675/675 [==============================] - 11s 16ms/step - loss: 0.0891 - accuracy: 0.9721 - val_loss: 0.8277 - val_accuracy: 0.8392\n"
          ]
        }
      ]
    },
    {
      "cell_type": "code",
      "execution_count": null,
      "metadata": {
        "colab": {
          "base_uri": "https://localhost:8080/"
        },
        "outputId": "e7eb5ab1-06b4-4bc9-da53-9d11f61a150f",
        "id": "haz7QrkAfva5"
      },
      "outputs": [
        {
          "output_type": "stream",
          "name": "stdout",
          "text": [
            "accuracy_train:  0.9942592592592593\n",
            "accuracy_test:  0.8391666666666666\n"
          ]
        }
      ],
      "source": [
        "y_pred_train_prob = model.predict(X_train)\n",
        "y_pred_test_prob = model.predict(X_test)\n",
        "\n",
        "y_pred_train = np.argmax(y_pred_train_prob,axis=1)\n",
        "y_pred_test= np.argmax(y_pred_test_prob,axis=1)\n",
        "\n",
        "accuracy_train = accuracy_score(y_train, y_pred_train)\n",
        "accuracy_test = accuracy_score(y_test, y_pred_test)\n",
        "\n",
        "print('accuracy_train: ', accuracy_train)\n",
        "print('accuracy_test: ', accuracy_test)\n"
      ]
    },
    {
      "cell_type": "code",
      "execution_count": null,
      "metadata": {
        "colab": {
          "base_uri": "https://localhost:8080/",
          "height": 334
        },
        "outputId": "31296c58-3556-4b56-b90d-23b28271aafa",
        "id": "H0t2RaIxfva5"
      },
      "outputs": [
        {
          "output_type": "display_data",
          "data": {
            "text/plain": [
              "<Figure size 1296x360 with 2 Axes>"
            ],
            "image/png": "[encoded data removed]"
          },
          "metadata": {
            "needs_background": "light"
          }
        }
      ],
      "source": [
        "fig, ((ax1, ax2)) = plt.subplots(1, 2, figsize=(18,5))\n",
        "\n",
        "training_loss = history.history['loss']\n",
        "val_loss = history.history['val_loss']\n",
        "\n",
        "# Create count of the number of epochs\n",
        "epoch_count = range(1, len(training_loss) + 1)\n",
        "\n",
        "# Visualize loss history\n",
        "ax1.plot(epoch_count, training_loss, 'r-')\n",
        "ax1.plot(epoch_count, val_loss, 'b-')\n",
        "ax1.legend(['Training Loss', 'Val Loss'])\n",
        "ax1.set_xlabel('Epoch')\n",
        "ax1.set_ylabel('Loss')\n",
        "\n",
        "training_acc = history.history['accuracy']\n",
        "val_acc = history.history['val_accuracy']\n",
        "\n",
        "# Create count of the number of epochs\n",
        "epoch_count = range(1, len(training_acc) + 1)\n",
        "\n",
        "# Visualize loss history\n",
        "ax2.plot(epoch_count, training_acc, 'r-')\n",
        "ax2.plot(epoch_count, val_acc, 'b-')\n",
        "ax2.legend(['Training Accuracy', 'Val Accuracy'])\n",
        "ax2.set_xlabel('Epoch')\n",
        "ax2.set_ylabel('Accuracy')\n",
        "\n",
        "plt.show();"
      ]
    },
    {
      "cell_type": "markdown",
      "source": [
        "### 2 LSTM layers"
      ],
      "metadata": {
        "id": "8q_nQJ2EdlgG"
      }
    },
    {
      "cell_type": "code",
      "source": [
        "embedding_vector_features = 400\n",
        "model = Sequential()\n",
        "model.add(Embedding(voc_size, embedding_vector_features, input_length=sent_length))\n",
        "model.add(BatchNormalization())\n",
        "model.add(Dropout(0.3))\n",
        "model.add(LSTM(200, return_sequences=True))\n",
        "model.add(BatchNormalization())\n",
        "model.add(Dropout(0.3))\n",
        "model.add(LSTM(300))\n",
        "model.add(BatchNormalization())\n",
        "model.add(Dropout(0.3))\n",
        "model.add(Dense(6, activation = 'softmax'))\n",
        "model.compile(loss = 'sparse_categorical_crossentropy', optimizer = 'adam', metrics=['accuracy'])\n",
        "print(model.summary())"
      ],
      "metadata": {
        "colab": {
          "base_uri": "https://localhost:8080/"
        },
        "outputId": "ca3c794b-337a-4ded-edb6-dbbc2afc5dbc",
        "id": "p9sjUZ_3duPi"
      },
      "execution_count": null,
      "outputs": [
        {
          "output_type": "stream",
          "name": "stdout",
          "text": [
            "Model: \"sequential_9\"\n",
            "_________________________________________________________________\n",
            " Layer (type)                Output Shape              Param #   \n",
            "=================================================================\n",
            " embedding_9 (Embedding)     (None, 40, 400)           4000000   \n",
            "                                                                 \n",
            " batch_normalization_20 (Bat  (None, 40, 400)          1600      \n",
            " chNormalization)                                                \n",
            "                                                                 \n",
            " dropout_20 (Dropout)        (None, 40, 400)           0         \n",
            "                                                                 \n",
            " lstm_14 (LSTM)              (None, 40, 200)           480800    \n",
            "                                                                 \n",
            " batch_normalization_21 (Bat  (None, 40, 200)          800       \n",
            " chNormalization)                                                \n",
            "                                                                 \n",
            " dropout_21 (Dropout)        (None, 40, 200)           0         \n",
            "                                                                 \n",
            " lstm_15 (LSTM)              (None, 300)               601200    \n",
            "                                                                 \n",
            " batch_normalization_22 (Bat  (None, 300)              1200      \n",
            " chNormalization)                                                \n",
            "                                                                 \n",
            " dropout_22 (Dropout)        (None, 300)               0         \n",
            "                                                                 \n",
            " dense_6 (Dense)             (None, 6)                 1806      \n",
            "                                                                 \n",
            "=================================================================\n",
            "Total params: 5,087,406\n",
            "Trainable params: 5,085,606\n",
            "Non-trainable params: 1,800\n",
            "_________________________________________________________________\n",
            "None\n"
          ]
        }
      ]
    },
    {
      "cell_type": "code",
      "source": [
        "es = tf.keras.callbacks.EarlyStopping(monitor=\"val_loss\",min_delta=0.001,patience=30)"
      ],
      "metadata": {
        "id": "qiUXe6E6duPj"
      },
      "execution_count": null,
      "outputs": []
    },
    {
      "cell_type": "code",
      "source": [
        "history = model.fit(X_train, y_train, validation_data=(X_test, y_test), epochs=100, batch_size = 32, verbose=1, callbacks = [es])"
      ],
      "metadata": {
        "colab": {
          "base_uri": "https://localhost:8080/"
        },
        "outputId": "a71a4e9c-a361-4002-9d6f-e994ae863668",
        "id": "WxfgMzTtduPj"
      },
      "execution_count": null,
      "outputs": [
        {
          "output_type": "stream",
          "name": "stdout",
          "text": [
            "Epoch 1/100\n",
            "338/338 [==============================] - 9s 16ms/step - loss: 1.4348 - accuracy: 0.5053 - val_loss: 1.4013 - val_accuracy: 0.5549\n",
            "Epoch 2/100\n",
            "338/338 [==============================] - 5s 15ms/step - loss: 0.4052 - accuracy: 0.8650 - val_loss: 0.4183 - val_accuracy: 0.8608\n",
            "Epoch 3/100\n",
            "338/338 [==============================] - 5s 15ms/step - loss: 0.2380 - accuracy: 0.9170 - val_loss: 0.4034 - val_accuracy: 0.8705\n",
            "Epoch 4/100\n",
            "338/338 [==============================] - 5s 13ms/step - loss: 0.1648 - accuracy: 0.9433 - val_loss: 0.4234 - val_accuracy: 0.8758\n",
            "Epoch 5/100\n",
            "338/338 [==============================] - 5s 13ms/step - loss: 0.1214 - accuracy: 0.9578 - val_loss: 0.4791 - val_accuracy: 0.8672\n",
            "Epoch 6/100\n",
            "338/338 [==============================] - 4s 13ms/step - loss: 0.0961 - accuracy: 0.9658 - val_loss: 0.5230 - val_accuracy: 0.8622\n",
            "Epoch 7/100\n",
            "338/338 [==============================] - 5s 14ms/step - loss: 0.0800 - accuracy: 0.9724 - val_loss: 0.5433 - val_accuracy: 0.8658\n",
            "Epoch 8/100\n",
            "338/338 [==============================] - 5s 13ms/step - loss: 0.0676 - accuracy: 0.9780 - val_loss: 0.5804 - val_accuracy: 0.8686\n",
            "Epoch 9/100\n",
            "338/338 [==============================] - 5s 13ms/step - loss: 0.0591 - accuracy: 0.9809 - val_loss: 0.5906 - val_accuracy: 0.8691\n",
            "Epoch 10/100\n",
            "338/338 [==============================] - 5s 13ms/step - loss: 0.0607 - accuracy: 0.9788 - val_loss: 0.6234 - val_accuracy: 0.8686\n",
            "Epoch 11/100\n",
            "338/338 [==============================] - 5s 13ms/step - loss: 0.0513 - accuracy: 0.9830 - val_loss: 0.6736 - val_accuracy: 0.8639\n",
            "Epoch 12/100\n",
            "338/338 [==============================] - 5s 13ms/step - loss: 0.0550 - accuracy: 0.9822 - val_loss: 0.6185 - val_accuracy: 0.8683\n",
            "Epoch 13/100\n",
            "338/338 [==============================] - 5s 13ms/step - loss: 0.0513 - accuracy: 0.9830 - val_loss: 0.6686 - val_accuracy: 0.8650\n",
            "Epoch 14/100\n",
            "338/338 [==============================] - 5s 14ms/step - loss: 0.0496 - accuracy: 0.9838 - val_loss: 0.6956 - val_accuracy: 0.8664\n",
            "Epoch 15/100\n",
            "338/338 [==============================] - 5s 14ms/step - loss: 0.0526 - accuracy: 0.9828 - val_loss: 0.6663 - val_accuracy: 0.8652\n",
            "Epoch 16/100\n",
            "338/338 [==============================] - 5s 13ms/step - loss: 0.0590 - accuracy: 0.9791 - val_loss: 0.6664 - val_accuracy: 0.8644\n",
            "Epoch 17/100\n",
            "338/338 [==============================] - 5s 13ms/step - loss: 0.0573 - accuracy: 0.9805 - val_loss: 0.6536 - val_accuracy: 0.8650\n",
            "Epoch 18/100\n",
            "338/338 [==============================] - 4s 13ms/step - loss: 0.0447 - accuracy: 0.9839 - val_loss: 0.6836 - val_accuracy: 0.8689\n",
            "Epoch 19/100\n",
            "338/338 [==============================] - 5s 14ms/step - loss: 0.0453 - accuracy: 0.9866 - val_loss: 0.7074 - val_accuracy: 0.8669\n",
            "Epoch 20/100\n",
            "338/338 [==============================] - 5s 15ms/step - loss: 0.0460 - accuracy: 0.9845 - val_loss: 0.6693 - val_accuracy: 0.8605\n",
            "Epoch 21/100\n",
            "338/338 [==============================] - 5s 14ms/step - loss: 0.0434 - accuracy: 0.9855 - val_loss: 0.6948 - val_accuracy: 0.8705\n",
            "Epoch 22/100\n",
            "338/338 [==============================] - 5s 14ms/step - loss: 0.0398 - accuracy: 0.9877 - val_loss: 0.7174 - val_accuracy: 0.8639\n",
            "Epoch 23/100\n",
            "338/338 [==============================] - 5s 14ms/step - loss: 0.0333 - accuracy: 0.9889 - val_loss: 0.7088 - val_accuracy: 0.8711\n",
            "Epoch 24/100\n",
            "338/338 [==============================] - 5s 14ms/step - loss: 0.0339 - accuracy: 0.9897 - val_loss: 0.7561 - val_accuracy: 0.8683\n",
            "Epoch 25/100\n",
            "338/338 [==============================] - 5s 14ms/step - loss: 0.0381 - accuracy: 0.9883 - val_loss: 0.7310 - val_accuracy: 0.8714\n",
            "Epoch 26/100\n",
            "338/338 [==============================] - 5s 14ms/step - loss: 0.0312 - accuracy: 0.9889 - val_loss: 0.7488 - val_accuracy: 0.8658\n",
            "Epoch 27/100\n",
            "338/338 [==============================] - 5s 14ms/step - loss: 0.0362 - accuracy: 0.9878 - val_loss: 0.7945 - val_accuracy: 0.8658\n",
            "Epoch 28/100\n",
            "338/338 [==============================] - 5s 14ms/step - loss: 0.0335 - accuracy: 0.9880 - val_loss: 0.7873 - val_accuracy: 0.8661\n",
            "Epoch 29/100\n",
            "338/338 [==============================] - 5s 14ms/step - loss: 0.0411 - accuracy: 0.9868 - val_loss: 0.7824 - val_accuracy: 0.8644\n",
            "Epoch 30/100\n",
            "338/338 [==============================] - 5s 14ms/step - loss: 0.0340 - accuracy: 0.9881 - val_loss: 0.8038 - val_accuracy: 0.8611\n",
            "Epoch 31/100\n",
            "338/338 [==============================] - 5s 14ms/step - loss: 0.0366 - accuracy: 0.9881 - val_loss: 0.7512 - val_accuracy: 0.8675\n",
            "Epoch 32/100\n",
            "338/338 [==============================] - 5s 14ms/step - loss: 0.0336 - accuracy: 0.9893 - val_loss: 0.8052 - val_accuracy: 0.8686\n",
            "Epoch 33/100\n",
            "338/338 [==============================] - 5s 14ms/step - loss: 0.0328 - accuracy: 0.9898 - val_loss: 0.8136 - val_accuracy: 0.8636\n"
          ]
        }
      ]
    },
    {
      "cell_type": "code",
      "execution_count": null,
      "metadata": {
        "colab": {
          "base_uri": "https://localhost:8080/"
        },
        "outputId": "2863c868-160d-493f-9c18-6b60b6fc5a84",
        "id": "vylRHAM7duPj"
      },
      "outputs": [
        {
          "output_type": "stream",
          "name": "stdout",
          "text": [
            "accuracy_train:  0.9972206781545303\n",
            "accuracy_test:  0.8635732147818839\n"
          ]
        }
      ],
      "source": [
        "y_pred_train_prob = model.predict(X_train)\n",
        "y_pred_test_prob = model.predict(X_test)\n",
        "\n",
        "y_pred_train = np.argmax(y_pred_train_prob,axis=1)\n",
        "y_pred_test= np.argmax(y_pred_test_prob,axis=1)\n",
        "\n",
        "accuracy_train = accuracy_score(y_train, y_pred_train)\n",
        "accuracy_test = accuracy_score(y_test, y_pred_test)\n",
        "\n",
        "print('accuracy_train: ', accuracy_train)\n",
        "print('accuracy_test: ', accuracy_test)\n"
      ]
    },
    {
      "cell_type": "code",
      "execution_count": null,
      "metadata": {
        "colab": {
          "base_uri": "https://localhost:8080/",
          "height": 334
        },
        "outputId": "67e785c4-3c68-4971-89cf-0d8a72bc9a35",
        "id": "vk0bHgK6duPj"
      },
      "outputs": [
        {
          "output_type": "display_data",
          "data": {
            "text/plain": [
              "<Figure size 1296x360 with 2 Axes>"
            ],
            "image/png": "[encoded data removed]"
          },
          "metadata": {
            "needs_background": "light"
          }
        }
      ],
      "source": [
        "fig, ((ax1, ax2)) = plt.subplots(1, 2, figsize=(18,5))\n",
        "\n",
        "training_loss = history.history['loss']\n",
        "val_loss = history.history['val_loss']\n",
        "\n",
        "# Create count of the number of epochs\n",
        "epoch_count = range(1, len(training_loss) + 1)\n",
        "\n",
        "# Visualize loss history\n",
        "ax1.plot(epoch_count, training_loss, 'r-')\n",
        "ax1.plot(epoch_count, val_loss, 'b-')\n",
        "ax1.legend(['Training Loss', 'Val Loss'])\n",
        "ax1.set_xlabel('Epoch')\n",
        "ax1.set_ylabel('Loss')\n",
        "\n",
        "training_acc = history.history['accuracy']\n",
        "val_acc = history.history['val_accuracy']\n",
        "\n",
        "# Create count of the number of epochs\n",
        "epoch_count = range(1, len(training_acc) + 1)\n",
        "\n",
        "# Visualize loss history\n",
        "ax2.plot(epoch_count, training_acc, 'r-')\n",
        "ax2.plot(epoch_count, val_acc, 'b-')\n",
        "ax2.legend(['Training Accuracy', 'Val Accuracy'])\n",
        "ax2.set_xlabel('Epoch')\n",
        "ax2.set_ylabel('Accuracy')\n",
        "\n",
        "plt.show();"
      ]
    },
    {
      "cell_type": "markdown",
      "source": [
        "### LSTM layers finetuning"
      ],
      "metadata": {
        "id": "Gn3e4ET6vHwf"
      }
    },
    {
      "cell_type": "code",
      "source": [
        "embedding_vector_features = 500\n",
        "model = Sequential()\n",
        "model.add(Embedding(voc_size, embedding_vector_features, input_length=sent_length))\n",
        "model.add(BatchNormalization())\n",
        "model.add(Dropout(0.3))\n",
        "model.add(LSTM(200, return_sequences=True, dropout=0.2, recurrent_dropout=0.2))\n",
        "model.add(BatchNormalization())\n",
        "model.add(Dropout(0.3))\n",
        "model.add(LSTM(300, dropout=0.2, recurrent_dropout=0.2))\n",
        "model.add(BatchNormalization())\n",
        "model.add(Dropout(0.3))\n",
        "model.add(Dense(6, activation = 'softmax'))\n",
        "model.compile(loss = 'sparse_categorical_crossentropy', optimizer = 'adam', metrics=['accuracy'])\n",
        "print(model.summary())"
      ],
      "metadata": {
        "colab": {
          "base_uri": "https://localhost:8080/"
        },
        "outputId": "4053f876-c91f-4262-cbeb-70428da6d06f",
        "id": "hkZQbvGevHwg"
      },
      "execution_count": null,
      "outputs": [
        {
          "output_type": "stream",
          "name": "stdout",
          "text": [
            "WARNING:tensorflow:Layer lstm_13 will not use cuDNN kernels since it doesn't meet the criteria. It will use a generic GPU kernel as fallback when running on GPU.\n"
          ]
        },
        {
          "output_type": "stream",
          "name": "stderr",
          "text": [
            "WARNING:tensorflow:Layer lstm_13 will not use cuDNN kernels since it doesn't meet the criteria. It will use a generic GPU kernel as fallback when running on GPU.\n"
          ]
        },
        {
          "output_type": "stream",
          "name": "stdout",
          "text": [
            "WARNING:tensorflow:Layer lstm_14 will not use cuDNN kernels since it doesn't meet the criteria. It will use a generic GPU kernel as fallback when running on GPU.\n"
          ]
        },
        {
          "output_type": "stream",
          "name": "stderr",
          "text": [
            "WARNING:tensorflow:Layer lstm_14 will not use cuDNN kernels since it doesn't meet the criteria. It will use a generic GPU kernel as fallback when running on GPU.\n"
          ]
        },
        {
          "output_type": "stream",
          "name": "stdout",
          "text": [
            "Model: \"sequential_7\"\n",
            "_________________________________________________________________\n",
            " Layer (type)                Output Shape              Param #   \n",
            "=================================================================\n",
            " embedding_7 (Embedding)     (None, 25, 500)           5000000   \n",
            "                                                                 \n",
            " batch_normalization_20 (Bat  (None, 25, 500)          2000      \n",
            " chNormalization)                                                \n",
            "                                                                 \n",
            " dropout_20 (Dropout)        (None, 25, 500)           0         \n",
            "                                                                 \n",
            " lstm_13 (LSTM)              (None, 25, 200)           560800    \n",
            "                                                                 \n",
            " batch_normalization_21 (Bat  (None, 25, 200)          800       \n",
            " chNormalization)                                                \n",
            "                                                                 \n",
            " dropout_21 (Dropout)        (None, 25, 200)           0         \n",
            "                                                                 \n",
            " lstm_14 (LSTM)              (None, 300)               601200    \n",
            "                                                                 \n",
            " batch_normalization_22 (Bat  (None, 300)              1200      \n",
            " chNormalization)                                                \n",
            "                                                                 \n",
            " dropout_22 (Dropout)        (None, 300)               0         \n",
            "                                                                 \n",
            " dense_7 (Dense)             (None, 6)                 1806      \n",
            "                                                                 \n",
            "=================================================================\n",
            "Total params: 6,167,806\n",
            "Trainable params: 6,165,806\n",
            "Non-trainable params: 2,000\n",
            "_________________________________________________________________\n",
            "None\n"
          ]
        }
      ]
    },
    {
      "cell_type": "code",
      "source": [
        "es = tf.keras.callbacks.EarlyStopping(monitor=\"val_loss\",min_delta=0.001,patience=30)\n",
        "\n",
        "history = model.fit(X_train, y_train, validation_data=(X_test, y_test), epochs=100, batch_size = 32, verbose=1, callbacks = [es])"
      ],
      "metadata": {
        "colab": {
          "base_uri": "https://localhost:8080/"
        },
        "outputId": "c83c5547-afd1-4628-ac2e-69aec9bb9427",
        "id": "PgEB6YqyvHwi"
      },
      "execution_count": null,
      "outputs": [
        {
          "output_type": "stream",
          "name": "stdout",
          "text": [
            "Epoch 1/100\n",
            "338/338 [==============================] - 87s 240ms/step - loss: 1.4728 - accuracy: 0.4941 - val_loss: 1.1839 - val_accuracy: 0.5507\n",
            "Epoch 2/100\n",
            "338/338 [==============================] - 79s 234ms/step - loss: 0.4628 - accuracy: 0.8442 - val_loss: 0.3811 - val_accuracy: 0.8597\n",
            "Epoch 3/100\n",
            "338/338 [==============================] - 78s 231ms/step - loss: 0.2616 - accuracy: 0.9096 - val_loss: 0.3899 - val_accuracy: 0.8722\n",
            "Epoch 4/100\n",
            "338/338 [==============================] - 79s 233ms/step - loss: 0.1794 - accuracy: 0.9365 - val_loss: 0.4240 - val_accuracy: 0.8622\n",
            "Epoch 5/100\n",
            "338/338 [==============================] - 79s 232ms/step - loss: 0.1360 - accuracy: 0.9511 - val_loss: 0.4658 - val_accuracy: 0.8641\n",
            "Epoch 6/100\n",
            "338/338 [==============================] - 77s 229ms/step - loss: 0.1055 - accuracy: 0.9648 - val_loss: 0.4908 - val_accuracy: 0.8702\n",
            "Epoch 7/100\n",
            "338/338 [==============================] - 79s 233ms/step - loss: 0.0862 - accuracy: 0.9682 - val_loss: 0.5684 - val_accuracy: 0.8664\n",
            "Epoch 8/100\n",
            "338/338 [==============================] - 77s 227ms/step - loss: 0.0894 - accuracy: 0.9668 - val_loss: 0.5464 - val_accuracy: 0.8677\n",
            "Epoch 9/100\n",
            "338/338 [==============================] - 79s 233ms/step - loss: 0.0802 - accuracy: 0.9718 - val_loss: 0.5663 - val_accuracy: 0.8655\n",
            "Epoch 10/100\n",
            "338/338 [==============================] - 78s 231ms/step - loss: 0.0895 - accuracy: 0.9693 - val_loss: 0.6011 - val_accuracy: 0.8647\n",
            "Epoch 11/100\n",
            "338/338 [==============================] - 79s 234ms/step - loss: 0.0711 - accuracy: 0.9752 - val_loss: 0.5771 - val_accuracy: 0.8672\n",
            "Epoch 12/100\n",
            "338/338 [==============================] - 80s 236ms/step - loss: 0.0613 - accuracy: 0.9787 - val_loss: 0.6074 - val_accuracy: 0.8741\n",
            "Epoch 13/100\n",
            "338/338 [==============================] - 78s 231ms/step - loss: 0.0571 - accuracy: 0.9803 - val_loss: 0.6354 - val_accuracy: 0.8730\n",
            "Epoch 14/100\n",
            "338/338 [==============================] - 79s 234ms/step - loss: 0.0542 - accuracy: 0.9823 - val_loss: 0.6322 - val_accuracy: 0.8739\n",
            "Epoch 15/100\n",
            "338/338 [==============================] - 80s 236ms/step - loss: 0.0604 - accuracy: 0.9792 - val_loss: 0.6359 - val_accuracy: 0.8627\n",
            "Epoch 16/100\n",
            "338/338 [==============================] - 79s 235ms/step - loss: 0.0632 - accuracy: 0.9790 - val_loss: 0.6135 - val_accuracy: 0.8733\n",
            "Epoch 17/100\n",
            "338/338 [==============================] - 79s 235ms/step - loss: 0.0501 - accuracy: 0.9818 - val_loss: 0.6569 - val_accuracy: 0.8736\n",
            "Epoch 18/100\n",
            "338/338 [==============================] - 78s 230ms/step - loss: 0.0524 - accuracy: 0.9828 - val_loss: 0.6268 - val_accuracy: 0.8714\n",
            "Epoch 19/100\n",
            "338/338 [==============================] - 80s 237ms/step - loss: 0.0527 - accuracy: 0.9843 - val_loss: 0.6732 - val_accuracy: 0.8700\n",
            "Epoch 20/100\n",
            "338/338 [==============================] - 79s 235ms/step - loss: 0.0484 - accuracy: 0.9837 - val_loss: 0.6773 - val_accuracy: 0.8647\n",
            "Epoch 21/100\n",
            "338/338 [==============================] - 79s 233ms/step - loss: 0.0558 - accuracy: 0.9804 - val_loss: 0.6482 - val_accuracy: 0.8727\n",
            "Epoch 22/100\n",
            "338/338 [==============================] - 78s 232ms/step - loss: 0.0469 - accuracy: 0.9846 - val_loss: 0.6621 - val_accuracy: 0.8697\n",
            "Epoch 23/100\n",
            "338/338 [==============================] - 75s 221ms/step - loss: 0.0411 - accuracy: 0.9858 - val_loss: 0.6578 - val_accuracy: 0.8783\n",
            "Epoch 24/100\n",
            "338/338 [==============================] - 78s 231ms/step - loss: 0.0428 - accuracy: 0.9858 - val_loss: 0.7090 - val_accuracy: 0.8733\n",
            "Epoch 25/100\n",
            "338/338 [==============================] - 77s 229ms/step - loss: 0.0454 - accuracy: 0.9854 - val_loss: 0.6949 - val_accuracy: 0.8727\n",
            "Epoch 26/100\n",
            "338/338 [==============================] - 77s 228ms/step - loss: 0.0459 - accuracy: 0.9847 - val_loss: 0.6805 - val_accuracy: 0.8750\n",
            "Epoch 27/100\n",
            "338/338 [==============================] - 77s 228ms/step - loss: 0.0446 - accuracy: 0.9849 - val_loss: 0.7152 - val_accuracy: 0.8702\n",
            "Epoch 28/100\n",
            "338/338 [==============================] - 75s 223ms/step - loss: 0.0396 - accuracy: 0.9870 - val_loss: 0.7530 - val_accuracy: 0.8647\n",
            "Epoch 29/100\n",
            "338/338 [==============================] - 78s 231ms/step - loss: 0.0411 - accuracy: 0.9869 - val_loss: 0.6870 - val_accuracy: 0.8686\n",
            "Epoch 30/100\n",
            "338/338 [==============================] - 77s 227ms/step - loss: 0.0406 - accuracy: 0.9867 - val_loss: 0.7381 - val_accuracy: 0.8686\n",
            "Epoch 31/100\n",
            "338/338 [==============================] - 77s 229ms/step - loss: 0.0380 - accuracy: 0.9866 - val_loss: 0.6967 - val_accuracy: 0.8791\n",
            "Epoch 32/100\n",
            "338/338 [==============================] - 76s 224ms/step - loss: 0.0317 - accuracy: 0.9888 - val_loss: 0.7316 - val_accuracy: 0.8766\n"
          ]
        }
      ]
    },
    {
      "cell_type": "code",
      "execution_count": null,
      "metadata": {
        "colab": {
          "base_uri": "https://localhost:8080/"
        },
        "outputId": "006c6f65-ce57-42b1-9799-da0a2864b04e",
        "id": "qjA_HEEdvHwi"
      },
      "outputs": [
        {
          "output_type": "stream",
          "name": "stdout",
          "text": [
            "accuracy_train:  0.997035390031499\n",
            "accuracy_test:  0.8766323978883023\n"
          ]
        }
      ],
      "source": [
        "y_pred_train_prob = model.predict(X_train)\n",
        "y_pred_test_prob = model.predict(X_test)\n",
        "\n",
        "y_pred_train = np.argmax(y_pred_train_prob,axis=1)\n",
        "y_pred_test= np.argmax(y_pred_test_prob,axis=1)\n",
        "\n",
        "accuracy_train = accuracy_score(y_train, y_pred_train)\n",
        "accuracy_test = accuracy_score(y_test, y_pred_test)\n",
        "\n",
        "print('accuracy_train: ', accuracy_train)\n",
        "print('accuracy_test: ', accuracy_test)\n"
      ]
    },
    {
      "cell_type": "code",
      "execution_count": null,
      "metadata": {
        "colab": {
          "base_uri": "https://localhost:8080/",
          "height": 334
        },
        "outputId": "52b832d2-08e5-4238-97c5-b23658f4d79a",
        "id": "Uv-i1h5kvHwi"
      },
      "outputs": [
        {
          "output_type": "display_data",
          "data": {
            "text/plain": [
              "<Figure size 1296x360 with 2 Axes>"
            ],
            "image/png": "[encoded data removed]"
          },
          "metadata": {
            "needs_background": "light"
          }
        }
      ],
      "source": [
        "fig, ((ax1, ax2)) = plt.subplots(1, 2, figsize=(18,5))\n",
        "\n",
        "training_loss = history.history['loss']\n",
        "val_loss = history.history['val_loss']\n",
        "\n",
        "# Create count of the number of epochs\n",
        "epoch_count = range(1, len(training_loss) + 1)\n",
        "\n",
        "# Visualize loss history\n",
        "ax1.plot(epoch_count, training_loss, 'r-')\n",
        "ax1.plot(epoch_count, val_loss, 'b-')\n",
        "ax1.legend(['Training Loss', 'Val Loss'])\n",
        "ax1.set_xlabel('Epoch')\n",
        "ax1.set_ylabel('Loss')\n",
        "\n",
        "training_acc = history.history['accuracy']\n",
        "val_acc = history.history['val_accuracy']\n",
        "\n",
        "# Create count of the number of epochs\n",
        "epoch_count = range(1, len(training_acc) + 1)\n",
        "\n",
        "# Visualize loss history\n",
        "ax2.plot(epoch_count, training_acc, 'r-')\n",
        "ax2.plot(epoch_count, val_acc, 'b-')\n",
        "ax2.legend(['Training Accuracy', 'Val Accuracy'])\n",
        "ax2.set_xlabel('Epoch')\n",
        "ax2.set_ylabel('Accuracy')\n",
        "\n",
        "plt.show();"
      ]
    },
    {
      "cell_type": "markdown",
      "metadata": {
        "id": "bNDbCHUslc-u"
      },
      "source": [
        "## 7.5 Hyperparameter Tuning using Keras Tuner"
      ]
    },
    {
      "cell_type": "code",
      "execution_count": null,
      "metadata": {
        "id": "AaznYkY8lc-v"
      },
      "outputs": [],
      "source": [
        "#!pip install keras-tuner\n",
        "import kerastuner as kt\n",
        "from kerastuner import HyperModel as hp\n",
        "from kerastuner import RandomSearch, Hyperband, BayesianOptimization"
      ]
    },
    {
      "cell_type": "markdown",
      "metadata": {
        "id": "_XBkIkZElc-w"
      },
      "source": [
        "#### 7.5.1 Using RandomSearch Tuner"
      ]
    },
    {
      "cell_type": "code",
      "execution_count": null,
      "metadata": {
        "id": "QD7H3CDplc-w"
      },
      "outputs": [],
      "source": [
        "class MyHyperModel(kt.HyperModel):\n",
        "    def build(self, hp):\n",
        "        embedding_vector_features = hp.Int(\"embed_vec_featr\",min_value=50, max_value=1000, step=50)\n",
        "        #voc_size = 10000                  #hp.Int(\"voc_size\",min_value=2000, max_value=10000, step=2000)\n",
        "        #sent_length = 25                  #hp.Int(\"sent_length\",min_value=20, max_value=50, step=5)\n",
        "        \n",
        "        model = Sequential()\n",
        "        model.add(Embedding(voc_size, embedding_vector_features, input_length=sent_length))\n",
        "        model.add(BatchNormalization())\n",
        "        model.add(Dropout(0.3))\n",
        "\n",
        "\n",
        "        num_layers = hp.Int('num_layers', 1, 5) \n",
        "        for i in range(num_layers): \n",
        "\n",
        "          if i < num_layers - 1: \n",
        "            model.add(LSTM(units=hp.Int(\"units\",min_value=50, max_value=500, step=50), \n",
        "                          activation=hp.Choice(\"activation\", [\"relu\", \"tanh\"]), return_sequences = True)) \n",
        "            model.add(BatchNormalization()) \n",
        "            model.add(Dropout(0.3)) \n",
        "          \n",
        "          else: \n",
        "            model.add(LSTM(units=hp.Int(\"units\",min_value=50, max_value=500, step=50), \n",
        "                          activation=hp.Choice(\"activation\", [\"relu\", \"tanh\"]))) \n",
        "            model.add(BatchNormalization()) \n",
        "            model.add(Dropout(0.3)) \n",
        "\n",
        "        model.add(layers.Dense(6, activation=\"softmax\"))\n",
        "        model.compile(optimizer=optimizers.Adam(hp.Float(\"lr\", min_value=1e-4, max_value=1e-2, sampling=\"log\")),\n",
        "                      loss='sparse_categorical_crossentropy',metrics=['accuracy'])\n",
        "        return model\n",
        "\n",
        "    def fit(self, hp, model, *args, **kwargs):\n",
        "        return model.fit(\n",
        "            *args,\n",
        "            batch_size=hp.Choice(\"batch_size\", [16, 32, 64]),\n",
        "            **kwargs,\n",
        "        )\n",
        "\n"
      ]
    },
    {
      "cell_type": "code",
      "execution_count": null,
      "metadata": {
        "colab": {
          "base_uri": "https://localhost:8080/"
        },
        "outputId": "0b97b096-cf05-4801-dc4f-6476930228c6",
        "id": "cEoSwKo0lc-w"
      },
      "outputs": [
        {
          "output_type": "stream",
          "name": "stderr",
          "text": [
            "WARNING:tensorflow:Layer lstm will not use cuDNN kernels since it doesn't meet the criteria. It will use a generic GPU kernel as fallback when running on GPU.\n"
          ]
        },
        {
          "output_type": "stream",
          "name": "stdout",
          "text": [
            "Search space summary\n",
            "Default search space size: 5\n",
            "embed_vec_featr (Int)\n",
            "{'default': None, 'conditions': [], 'min_value': 50, 'max_value': 1000, 'step': 50, 'sampling': None}\n",
            "num_layers (Int)\n",
            "{'default': None, 'conditions': [], 'min_value': 1, 'max_value': 5, 'step': 1, 'sampling': None}\n",
            "units (Int)\n",
            "{'default': None, 'conditions': [], 'min_value': 50, 'max_value': 500, 'step': 50, 'sampling': None}\n",
            "activation (Choice)\n",
            "{'default': 'relu', 'conditions': [], 'values': ['relu', 'tanh'], 'ordered': False}\n",
            "lr (Float)\n",
            "{'default': 0.0001, 'conditions': [], 'min_value': 0.0001, 'max_value': 0.01, 'step': None, 'sampling': 'log'}\n"
          ]
        }
      ],
      "source": [
        "tuner = kt.RandomSearch(\n",
        "    MyHyperModel(),\n",
        "    objective=\"val_accuracy\",\n",
        "    max_trials=10,\n",
        "    overwrite=True,\n",
        ")\n",
        "\n",
        "tuner.search_space_summary()"
      ]
    },
    {
      "cell_type": "code",
      "execution_count": null,
      "metadata": {
        "colab": {
          "base_uri": "https://localhost:8080/"
        },
        "outputId": "a720a299-a98d-43ef-bd72-63106f11f780",
        "id": "62zz_12klc-w"
      },
      "outputs": [
        {
          "output_type": "stream",
          "name": "stdout",
          "text": [
            "Trial 10 Complete [00h 04m 10s]\n",
            "val_accuracy: 0.34454014897346497\n",
            "\n",
            "Best val_accuracy So Far: 0.8849680423736572\n",
            "Total elapsed time: 00h 58m 02s\n"
          ]
        }
      ],
      "source": [
        "es = tf.keras.callbacks.EarlyStopping(monitor=\"val_loss\",min_delta=0.001,patience=3)\n",
        "\n",
        "tuner.search(X_train, y_train, epochs=50, validation_data=(X_test, y_test), verbose=1, callbacks = [es],)"
      ]
    },
    {
      "cell_type": "code",
      "source": [
        "tuner.results_summary(num_trials=1)"
      ],
      "metadata": {
        "colab": {
          "base_uri": "https://localhost:8080/"
        },
        "id": "DMU9DQtj_xU8",
        "outputId": "1d9fbb8f-4e85-4037-8c2e-e2fc2c139748"
      },
      "execution_count": null,
      "outputs": [
        {
          "output_type": "stream",
          "name": "stdout",
          "text": [
            "Results summary\n",
            "Results in ./untitled_project\n",
            "Showing 1 best trials\n",
            "<keras_tuner.engine.objective.Objective object at 0x7fe188c5d4d0>\n",
            "Trial summary\n",
            "Hyperparameters:\n",
            "embed_vec_featr: 900\n",
            "num_layers: 3\n",
            "units: 300\n",
            "activation: relu\n",
            "lr: 0.00011952821922571687\n",
            "batch_size: 16\n",
            "Score: 0.8849680423736572\n"
          ]
        }
      ]
    },
    {
      "cell_type": "code",
      "execution_count": null,
      "metadata": {
        "colab": {
          "base_uri": "https://localhost:8080/"
        },
        "outputId": "4c10a483-8d1e-4ac6-dedc-0041833e5472",
        "id": "ZUa_XN_nlc-w"
      },
      "outputs": [
        {
          "output_type": "stream",
          "name": "stderr",
          "text": [
            "WARNING:tensorflow:Layer lstm will not use cuDNN kernels since it doesn't meet the criteria. It will use a generic GPU kernel as fallback when running on GPU.\n",
            "WARNING:tensorflow:Layer lstm_1 will not use cuDNN kernels since it doesn't meet the criteria. It will use a generic GPU kernel as fallback when running on GPU.\n",
            "WARNING:tensorflow:Layer lstm_2 will not use cuDNN kernels since it doesn't meet the criteria. It will use a generic GPU kernel as fallback when running on GPU.\n"
          ]
        },
        {
          "output_type": "stream",
          "name": "stdout",
          "text": [
            "338/338 [==============================] - 6s 17ms/step - loss: 0.0368 - accuracy: 0.9894\n",
            "113/113 [==============================] - 2s 14ms/step - loss: 0.4061 - accuracy: 0.8850\n",
            "Train Results: [0.036795005202293396, 0.9894385933876038]\n",
            "Test Results: [0.4061104655265808, 0.8849680423736572]\n"
          ]
        }
      ],
      "source": [
        "models1 = tuner.get_best_models(num_models = 1)\n",
        "train_results = models1[0].evaluate(X_train, y_train)\n",
        "test_results = models1[0].evaluate(X_test, y_test)\n",
        "\n",
        "print(\"Train Results:\", train_results)\n",
        "print(\"Test Results:\", test_results)"
      ]
    },
    {
      "cell_type": "code",
      "source": [
        "best_model1 = models1[0]\n",
        "best_model1.save(filepath = r'/./model1.h5')\n"
      ],
      "metadata": {
        "id": "4f6upu6zQOxH"
      },
      "execution_count": null,
      "outputs": []
    },
    {
      "cell_type": "markdown",
      "metadata": {
        "id": "Vkm9VBctlc-w"
      },
      "source": [
        "#### 7.5.2 Using Bayesian Optimizer Tuner"
      ]
    },
    {
      "cell_type": "code",
      "execution_count": null,
      "metadata": {
        "id": "3j-BX21Clc-w"
      },
      "outputs": [],
      "source": [
        "class MyHyperModel2(kt.HyperModel):\n",
        "    def build(self, hp):\n",
        "        embedding_vector_features = hp.Int(\"embed_vec_featr\",min_value=50, max_value=1000, step=50)\n",
        "        #voc_size = 10000                  #hp.Int(\"voc_size\",min_value=2000, max_value=10000, step=2000)\n",
        "        #sent_length = 25                  #hp.Int(\"sent_length\",min_value=20, max_value=50, step=5)\n",
        "        \n",
        "        model = Sequential()\n",
        "        model.add(Embedding(voc_size, embedding_vector_features, input_length=sent_length))\n",
        "        model.add(BatchNormalization())\n",
        "        model.add(Dropout(0.3))\n",
        "\n",
        "\n",
        "        num_layers = hp.Int('num_layers', 1, 5) \n",
        "        for i in range(num_layers): \n",
        "\n",
        "          if i < num_layers - 1: \n",
        "            model.add(LSTM(units=hp.Int(\"units\",min_value=50, max_value=500, step=50), \n",
        "                          activation=hp.Choice(\"activation\", [\"relu\", \"tanh\"]), return_sequences = True)) \n",
        "            model.add(BatchNormalization()) \n",
        "            model.add(Dropout(0.3)) \n",
        "          \n",
        "          else: \n",
        "            model.add(LSTM(units=hp.Int(\"units\",min_value=50, max_value=500, step=50), \n",
        "                          activation=hp.Choice(\"activation\", [\"relu\", \"tanh\"]))) \n",
        "            model.add(BatchNormalization()) \n",
        "            model.add(Dropout(0.3)) \n",
        "\n",
        "        model.add(layers.Dense(6, activation=\"softmax\"))\n",
        "        model.compile(optimizer=optimizers.Adam(hp.Float(\"lr\", min_value=1e-4, max_value=1e-2, sampling=\"log\")),\n",
        "                      loss='sparse_categorical_crossentropy',metrics=['accuracy'])\n",
        "        return model\n",
        "\n",
        "    def fit(self, hp, model, *args, **kwargs):\n",
        "        return model.fit(\n",
        "            *args,\n",
        "            batch_size=hp.Choice(\"batch_size\", [16, 32, 64]),\n",
        "            **kwargs,\n",
        "        )"
      ]
    },
    {
      "cell_type": "code",
      "execution_count": null,
      "metadata": {
        "colab": {
          "base_uri": "https://localhost:8080/"
        },
        "outputId": "0e67fbcc-bd08-4c9f-f6bd-5ac1f72f6bd7",
        "id": "HFTh_nNulc-w"
      },
      "outputs": [
        {
          "output_type": "stream",
          "name": "stderr",
          "text": [
            "WARNING:tensorflow:Layer lstm_3 will not use cuDNN kernels since it doesn't meet the criteria. It will use a generic GPU kernel as fallback when running on GPU.\n"
          ]
        },
        {
          "output_type": "stream",
          "name": "stdout",
          "text": [
            "Search space summary\n",
            "Default search space size: 5\n",
            "embed_vec_featr (Int)\n",
            "{'default': None, 'conditions': [], 'min_value': 50, 'max_value': 1000, 'step': 50, 'sampling': None}\n",
            "num_layers (Int)\n",
            "{'default': None, 'conditions': [], 'min_value': 1, 'max_value': 5, 'step': 1, 'sampling': None}\n",
            "units (Int)\n",
            "{'default': None, 'conditions': [], 'min_value': 50, 'max_value': 500, 'step': 50, 'sampling': None}\n",
            "activation (Choice)\n",
            "{'default': 'relu', 'conditions': [], 'values': ['relu', 'tanh'], 'ordered': False}\n",
            "lr (Float)\n",
            "{'default': 0.0001, 'conditions': [], 'min_value': 0.0001, 'max_value': 0.01, 'step': None, 'sampling': 'log'}\n"
          ]
        }
      ],
      "source": [
        "tuner2 = kt.BayesianOptimization(\n",
        "            MyHyperModel2(),\n",
        "            objective='val_accuracy',\n",
        "            max_trials=10,\n",
        "            overwrite=True,\n",
        "        )\n",
        "tuner2.search_space_summary()"
      ]
    },
    {
      "cell_type": "code",
      "execution_count": null,
      "metadata": {
        "colab": {
          "base_uri": "https://localhost:8080/"
        },
        "outputId": "e3ac5187-8806-4c47-a165-932dc784f188",
        "id": "1VIT4OENlc-w"
      },
      "outputs": [
        {
          "output_type": "stream",
          "name": "stdout",
          "text": [
            "Trial 10 Complete [00h 00m 20s]\n",
            "val_accuracy: 0.8669074773788452\n",
            "\n",
            "Best val_accuracy So Far: 0.8669074773788452\n",
            "Total elapsed time: 00h 25m 27s\n"
          ]
        }
      ],
      "source": [
        "es = tf.keras.callbacks.EarlyStopping(monitor=\"val_loss\",min_delta=0.0001,patience=3)\n",
        "\n",
        "tuner2.search(X_train, y_train, epochs=50, validation_data=(X_test, y_test), verbose=1, callbacks = [es],)"
      ]
    },
    {
      "cell_type": "code",
      "source": [
        "tuner2.results_summary(num_trials=1)"
      ],
      "metadata": {
        "colab": {
          "base_uri": "https://localhost:8080/"
        },
        "id": "nFFEW40IhPrZ",
        "outputId": "9c8c8814-29bc-43cc-f044-f1ef19967ec0"
      },
      "execution_count": null,
      "outputs": [
        {
          "output_type": "stream",
          "name": "stdout",
          "text": [
            "Results summary\n",
            "Results in ./untitled_project\n",
            "Showing 1 best trials\n",
            "<keras_tuner.engine.objective.Objective object at 0x7fe10c0b8590>\n",
            "Trial summary\n",
            "Hyperparameters:\n",
            "embed_vec_featr: 1000\n",
            "num_layers: 1\n",
            "units: 350\n",
            "activation: tanh\n",
            "lr: 0.0009242959051252621\n",
            "batch_size: 64\n",
            "Score: 0.8669074773788452\n"
          ]
        }
      ]
    },
    {
      "cell_type": "code",
      "execution_count": null,
      "metadata": {
        "colab": {
          "base_uri": "https://localhost:8080/"
        },
        "outputId": "ec7c84f7-2e4e-4687-b9b4-447cf3732b58",
        "id": "KwqMuCowlc-w"
      },
      "outputs": [
        {
          "output_type": "stream",
          "name": "stdout",
          "text": [
            "338/338 [==============================] - 3s 6ms/step - loss: 0.0207 - accuracy: 0.9925\n",
            "113/113 [==============================] - 1s 6ms/step - loss: 0.5222 - accuracy: 0.8669\n",
            "Train Results: [0.020704170688986778, 0.9924958348274231]\n",
            "Test Results: [0.5221570134162903, 0.8669074773788452]\n"
          ]
        }
      ],
      "source": [
        "models2 = tuner2.get_best_models(num_models = 1)\n",
        "train_results = models2[0].evaluate(X_train, y_train)\n",
        "test_results = models2[0].evaluate(X_test, y_test)\n",
        "\n",
        "print(\"Train Results:\", train_results)\n",
        "print(\"Test Results:\", test_results)"
      ]
    },
    {
      "cell_type": "code",
      "source": [
        "best_model2 = models2[0]\n",
        "best_model2.save(filepath = r'/./model2.h5')\n"
      ],
      "metadata": {
        "id": "a9x-Ghp8L9_3"
      },
      "execution_count": null,
      "outputs": []
    },
    {
      "cell_type": "markdown",
      "source": [
        "# 8 Inferencing"
      ],
      "metadata": {
        "id": "vLUABnTnV5Sw"
      }
    },
    {
      "cell_type": "markdown",
      "source": [
        "## 8.1 Importing & Performing Pre-processing"
      ],
      "metadata": {
        "id": "6UADk8dSV-1f"
      }
    },
    {
      "cell_type": "code",
      "source": [
        "test_data = pd.read_csv(r'/./emotion_test.csv' )\n",
        "\n",
        "print('Data Shape:', test_data.shape)\n",
        "test_data.head(5)"
      ],
      "metadata": {
        "colab": {
          "base_uri": "https://localhost:8080/",
          "height": 320
        },
        "id": "7WZMWjRPUUkw",
        "outputId": "d11809b5-8d18-4ba3-bc98-6c1c359599cb"
      },
      "execution_count": null,
      "outputs": [
        {
          "output_type": "stream",
          "name": "stdout",
          "text": [
            "Data Shape: (3600, 2)\n"
          ]
        },
        {
          "output_type": "execute_result",
          "data": {
            "text/plain": [
              "      Id  \\\n",
              "0  10779   \n",
              "1   2247   \n",
              "2  11765   \n",
              "3  14390   \n",
              "4    388   \n",
              "\n",
              "                                                                                                                                                                                      Input  \n",
              "0                            i could almost feel it as the flames singed and tortured her frail delicate body leaving nothing behind but a foul smelling concoction of wood and burnt flesh  \n",
              "1         i realise im sounding surprisingly like every other person on this site i wish i liked mud wrestling or something a bit more outrageous i feel rather dull and dare i say average  \n",
              "2  i have all of that obviously because of what i do on youtube and my blog and while i have a ton i like that i can feel ok about it because i have it managed in a nice and organized way  \n",
              "3               i cannot speak for others but all i know is i feel i am the most successful prettiest version of myself when i walk out of my starbucks with my red cup holiday cup in hand  \n",
              "4                                                                                                                       im pretty happy but a little on the nauseated side to feel thrilled  "
            ],
            "text/html": [
              "\n",
              "  <div id=\"df-f87b7a72-627f-4e8f-8a6e-7dfade3abfe1\">\n",
              "    <div class=\"colab-df-container\">\n",
              "      <div>\n",
              "<style scoped>\n",
              "    .dataframe tbody tr th:only-of-type {\n",
              "        vertical-align: middle;\n",
              "    }\n",
              "\n",
              "    .dataframe tbody tr th {\n",
              "        vertical-align: top;\n",
              "    }\n",
              "\n",
              "    .dataframe thead th {\n",
              "        text-align: right;\n",
              "    }\n",
              "</style>\n",
              "<table border=\"1\" class=\"dataframe\">\n",
              "  <thead>\n",
              "    <tr style=\"text-align: right;\">\n",
              "      <th></th>\n",
              "      <th>Id</th>\n",
              "      <th>Input</th>\n",
              "    </tr>\n",
              "  </thead>\n",
              "  <tbody>\n",
              "    <tr>\n",
              "      <th>0</th>\n",
              "      <td>10779</td>\n",
              "      <td>i could almost feel it as the flames singed and tortured her frail delicate body leaving nothing behind but a foul smelling concoction of wood and burnt flesh</td>\n",
              "    </tr>\n",
              "    <tr>\n",
              "      <th>1</th>\n",
              "      <td>2247</td>\n",
              "      <td>i realise im sounding surprisingly like every other person on this site i wish i liked mud wrestling or something a bit more outrageous i feel rather dull and dare i say average</td>\n",
              "    </tr>\n",
              "    <tr>\n",
              "      <th>2</th>\n",
              "      <td>11765</td>\n",
              "      <td>i have all of that obviously because of what i do on youtube and my blog and while i have a ton i like that i can feel ok about it because i have it managed in a nice and organized way</td>\n",
              "    </tr>\n",
              "    <tr>\n",
              "      <th>3</th>\n",
              "      <td>14390</td>\n",
              "      <td>i cannot speak for others but all i know is i feel i am the most successful prettiest version of myself when i walk out of my starbucks with my red cup holiday cup in hand</td>\n",
              "    </tr>\n",
              "    <tr>\n",
              "      <th>4</th>\n",
              "      <td>388</td>\n",
              "      <td>im pretty happy but a little on the nauseated side to feel thrilled</td>\n",
              "    </tr>\n",
              "  </tbody>\n",
              "</table>\n",
              "</div>\n",
              "      <button class=\"colab-df-convert\" onclick=\"convertToInteractive('df-f87b7a72-627f-4e8f-8a6e-7dfade3abfe1')\"\n",
              "              title=\"Convert this dataframe to an interactive table.\"\n",
              "              style=\"display:none;\">\n",
              "        \n",
              "  <svg xmlns=\"http://www.w3.org/2000/svg\" height=\"24px\"viewBox=\"0 0 24 24\"\n",
              "       width=\"24px\">\n",
              "    <path d=\"M0 0h24v24H0V0z\" fill=\"none\"/>\n",
              "    <path d=\"M18.56 5.44l.94 2.06.94-2.06 2.06-.94-2.06-.94-.94-2.06-.94 2.06-2.06.94zm-11 1L8.5 8.5l.94-2.06 2.06-.94-2.06-.94L8.5 2.5l-.94 2.06-2.06.94zm10 10l.94 2.06.94-2.06 2.06-.94-2.06-.94-.94-2.06-.94 2.06-2.06.94z\"/><path d=\"M17.41 7.96l-1.37-1.37c-.4-.4-.92-.59-1.43-.59-.52 0-1.04.2-1.43.59L10.3 9.45l-7.72 7.72c-.78.78-.78 2.05 0 2.83L4 21.41c.39.39.9.59 1.41.59.51 0 1.02-.2 1.41-.59l7.78-7.78 2.81-2.81c.8-.78.8-2.07 0-2.86zM5.41 20L4 18.59l7.72-7.72 1.47 1.35L5.41 20z\"/>\n",
              "  </svg>\n",
              "      </button>\n",
              "      \n",
              "  <style>\n",
              "    .colab-df-container {\n",
              "      display:flex;\n",
              "      flex-wrap:wrap;\n",
              "      gap: 12px;\n",
              "    }\n",
              "\n",
              "    .colab-df-convert {\n",
              "      background-color: #E8F0FE;\n",
              "      border: none;\n",
              "      border-radius: 50%;\n",
              "      cursor: pointer;\n",
              "      display: none;\n",
              "      fill: #1967D2;\n",
              "      height: 32px;\n",
              "      padding: 0 0 0 0;\n",
              "      width: 32px;\n",
              "    }\n",
              "\n",
              "    .colab-df-convert:hover {\n",
              "      background-color: #E2EBFA;\n",
              "      box-shadow: 0px 1px 2px rgba(60, 64, 67, 0.3), 0px 1px 3px 1px rgba(60, 64, 67, 0.15);\n",
              "      fill: #174EA6;\n",
              "    }\n",
              "\n",
              "    [theme=dark] .colab-df-convert {\n",
              "      background-color: #3B4455;\n",
              "      fill: #D2E3FC;\n",
              "    }\n",
              "\n",
              "    [theme=dark] .colab-df-convert:hover {\n",
              "      background-color: #434B5C;\n",
              "      box-shadow: 0px 1px 3px 1px rgba(0, 0, 0, 0.15);\n",
              "      filter: drop-shadow(0px 1px 2px rgba(0, 0, 0, 0.3));\n",
              "      fill: #FFFFFF;\n",
              "    }\n",
              "  </style>\n",
              "\n",
              "      <script>\n",
              "        const buttonEl =\n",
              "          document.querySelector('#df-f87b7a72-627f-4e8f-8a6e-7dfade3abfe1 button.colab-df-convert');\n",
              "        buttonEl.style.display =\n",
              "          google.colab.kernel.accessAllowed ? 'block' : 'none';\n",
              "\n",
              "        async function convertToInteractive(key) {\n",
              "          const element = document.querySelector('#df-f87b7a72-627f-4e8f-8a6e-7dfade3abfe1');\n",
              "          const dataTable =\n",
              "            await google.colab.kernel.invokeFunction('convertToInteractive',\n",
              "                                                     [key], {});\n",
              "          if (!dataTable) return;\n",
              "\n",
              "          const docLinkHtml = 'Like what you see? Visit the ' +\n",
              "            '<a target=\"_blank\" href=https://colab.research.google.com/notebooks/data_table.ipynb>data table notebook</a>'\n",
              "            + ' to learn more about interactive tables.';\n",
              "          element.innerHTML = '';\n",
              "          dataTable['output_type'] = 'display_data';\n",
              "          await google.colab.output.renderOutput(dataTable, element);\n",
              "          const docLink = document.createElement('div');\n",
              "          docLink.innerHTML = docLinkHtml;\n",
              "          element.appendChild(docLink);\n",
              "        }\n",
              "      </script>\n",
              "    </div>\n",
              "  </div>\n",
              "  "
            ]
          },
          "metadata": {},
          "execution_count": 48
        }
      ]
    },
    {
      "cell_type": "code",
      "source": [
        "for i in range(test_data.Input.shape[0]):\n",
        "  for j in range(len(proper_words)):\n",
        "    a = improper_words[j]\n",
        "    b = proper_words[j]\n",
        "    test_data.Input[i] = test_data.Input[i].replace(a, b)"
      ],
      "metadata": {
        "id": "Ps3w7ow1WvJg"
      },
      "execution_count": null,
      "outputs": []
    },
    {
      "cell_type": "code",
      "source": [
        "lemmatizer = WordNetLemmatizer()\n",
        "ps = PorterStemmer()\n",
        "\n",
        "test_corpus = []\n",
        "for i in range (0, len(test_data)):\n",
        "  review = re.sub('[^a-zA-Z0-9]', ' ', test_data['Input'][i])\n",
        "  review = review.lower()\n",
        "  review = review.split()\n",
        "\n",
        "  review = [ps.stem(word) for word in review if not word in stopwords.words('english')]\n",
        "  review = [lemmatizer.lemmatize(word) for word in review if not word in stopwords.words('english')]\n",
        "  \n",
        "\n",
        "  review = ' '.join(review)\n",
        "  test_corpus.append(review)\n",
        "# took 1.5mins"
      ],
      "metadata": {
        "id": "HJsCVeOzWvJh"
      },
      "execution_count": null,
      "outputs": []
    },
    {
      "cell_type": "code",
      "source": [
        "test_data['word_count_post_process'] = test_data['Input']\n",
        "for i in range(0,len(test_data)):\n",
        "  test_data['word_count_post_process'][i] = len(test_corpus[i].split())"
      ],
      "metadata": {
        "id": "etJwIOjuWvJh"
      },
      "execution_count": null,
      "outputs": []
    },
    {
      "cell_type": "code",
      "source": [
        "print(\"Max word count of post-processed sentence is \", test_data['word_count_post_process'].max())\n",
        "print(\"Min word count of post-processed sentence is \", test_data['word_count_post_process'].min())"
      ],
      "metadata": {
        "colab": {
          "base_uri": "https://localhost:8080/"
        },
        "outputId": "6cd5419e-663a-49c9-d20a-9e6935b46a74",
        "id": "xVeyugvjWvJh"
      },
      "execution_count": null,
      "outputs": [
        {
          "output_type": "stream",
          "name": "stdout",
          "text": [
            "Max word count of post-processed sentence is  35\n",
            "Min word count of post-processed sentence is  1\n"
          ]
        }
      ]
    },
    {
      "cell_type": "code",
      "source": [
        "# Hyperparameters from model1.h5:\n",
        "# embed_vec_featr: 900\n",
        "# num_layers: 3\n",
        "# units: 300\n",
        "# activation: relu\n",
        "# lr: 0.00011952821922571687\n",
        "# batch_size: 16\n",
        "# Score: 0.8849680423736572\n",
        "\n",
        "embedding_vector_features = 900\n",
        "voc_size1 = 10000\n",
        "sent_length1 = 25\n",
        "\n",
        "test_onehot_repr = [one_hot(words,voc_size1) for words in test_corpus]\n",
        "\n",
        "### Embedding\n",
        "test_embedded_docs = pad_sequences(test_onehot_repr, padding = 'pre', maxlen = sent_length1)\n",
        "\n",
        "### Preparing X :\n",
        "X_test_final = np.array(test_embedded_docs)"
      ],
      "metadata": {
        "id": "PfMfUyS7ESwX"
      },
      "execution_count": null,
      "outputs": []
    },
    {
      "cell_type": "code",
      "source": [
        "#Loading the model, model1.h5\n",
        "\n",
        "from tensorflow.keras import models \n",
        "Loaded_model1 = models.load_model('/./model1.h5')"
      ],
      "metadata": {
        "id": "hE3ygheUywsW"
      },
      "execution_count": null,
      "outputs": []
    },
    {
      "cell_type": "code",
      "source": [
        "y_test_prediction = np.argmax(Loaded_model1.predict(X_test_final),axis=1)"
      ],
      "metadata": {
        "id": "g0YhNth-ESyw"
      },
      "execution_count": null,
      "outputs": []
    },
    {
      "cell_type": "code",
      "source": [
        "final_df = test_data.copy()"
      ],
      "metadata": {
        "id": "gAZv7nPzES1Z"
      },
      "execution_count": null,
      "outputs": []
    },
    {
      "cell_type": "code",
      "source": [
        "final_df['Sentiment_number'] = y_test_prediction\n",
        "final_df.Sentiment_number.value_counts()"
      ],
      "metadata": {
        "id": "aoD15VduES35",
        "colab": {
          "base_uri": "https://localhost:8080/"
        },
        "outputId": "d0c602ef-afbe-4ae2-dddf-6be6516595bf"
      },
      "execution_count": null,
      "outputs": [
        {
          "output_type": "execute_result",
          "data": {
            "text/plain": [
              "0    1270\n",
              "3    1026\n",
              "4     480\n",
              "1     442\n",
              "2     237\n",
              "5     145\n",
              "Name: Sentiment_number, dtype: int64"
            ]
          },
          "metadata": {},
          "execution_count": 66
        }
      ]
    },
    {
      "cell_type": "code",
      "source": [
        "#reverse mapping to verify:\n",
        "\n",
        "final_df['Sentiment'] = final_df.Sentiment_number.map({3:'sadness', 0:'joy', 2:'love', 1:'anger', 5:'surprise', 4:'fear'})"
      ],
      "metadata": {
        "id": "jNYHoKSpweNY"
      },
      "execution_count": null,
      "outputs": []
    },
    {
      "cell_type": "code",
      "source": [
        "final_df.head()"
      ],
      "metadata": {
        "colab": {
          "base_uri": "https://localhost:8080/",
          "height": 320
        },
        "id": "LF9KAEYcxZ6q",
        "outputId": "1bcc3136-d51b-4a18-b810-17f9aff6bfa5"
      },
      "execution_count": null,
      "outputs": [
        {
          "output_type": "execute_result",
          "data": {
            "text/plain": [
              "      Id  \\\n",
              "0  10779   \n",
              "1   2247   \n",
              "2  11765   \n",
              "3  14390   \n",
              "4    388   \n",
              "\n",
              "                                                                                                                                                                                      Input  \\\n",
              "0                            i could almost feel it as the flames singed and tortured her frail delicate body leaving nothing behind but a foul smelling concoction of wood and burnt flesh   \n",
              "1       i realise i am sounding surprisingly like every other person on this site i wish i liked mud wrestling or something a bit more outrageous i feel rather dull and dare i say average   \n",
              "2  i have all of that obviously because of what i do on youtube and my blog and while i have a ton i like that i can feel ok about it because i have it managed in a nice and organized way   \n",
              "3               i cannot speak for others but all i know is i feel i am the most successful prettiest version of myself when i walk out of my starbucks with my red cup holiday cup in hand   \n",
              "4                                                                                                                     i am pretty happy but a little on the nauseated side to feel thrilled   \n",
              "\n",
              "  word_count_post_process  Sentiment_number Sentiment  \n",
              "0                      18                 3   sadness  \n",
              "1                      20                 3   sadness  \n",
              "2                      11                 0       joy  \n",
              "3                      14                 0       joy  \n",
              "4                       7                 0       joy  "
            ],
            "text/html": [
              "\n",
              "  <div id=\"df-9ad5ea76-fde7-4fe6-90af-27936a1fc169\">\n",
              "    <div class=\"colab-df-container\">\n",
              "      <div>\n",
              "<style scoped>\n",
              "    .dataframe tbody tr th:only-of-type {\n",
              "        vertical-align: middle;\n",
              "    }\n",
              "\n",
              "    .dataframe tbody tr th {\n",
              "        vertical-align: top;\n",
              "    }\n",
              "\n",
              "    .dataframe thead th {\n",
              "        text-align: right;\n",
              "    }\n",
              "</style>\n",
              "<table border=\"1\" class=\"dataframe\">\n",
              "  <thead>\n",
              "    <tr style=\"text-align: right;\">\n",
              "      <th></th>\n",
              "      <th>Id</th>\n",
              "      <th>Input</th>\n",
              "      <th>word_count_post_process</th>\n",
              "      <th>Sentiment_number</th>\n",
              "      <th>Sentiment</th>\n",
              "    </tr>\n",
              "  </thead>\n",
              "  <tbody>\n",
              "    <tr>\n",
              "      <th>0</th>\n",
              "      <td>10779</td>\n",
              "      <td>i could almost feel it as the flames singed and tortured her frail delicate body leaving nothing behind but a foul smelling concoction of wood and burnt flesh</td>\n",
              "      <td>18</td>\n",
              "      <td>3</td>\n",
              "      <td>sadness</td>\n",
              "    </tr>\n",
              "    <tr>\n",
              "      <th>1</th>\n",
              "      <td>2247</td>\n",
              "      <td>i realise i am sounding surprisingly like every other person on this site i wish i liked mud wrestling or something a bit more outrageous i feel rather dull and dare i say average</td>\n",
              "      <td>20</td>\n",
              "      <td>3</td>\n",
              "      <td>sadness</td>\n",
              "    </tr>\n",
              "    <tr>\n",
              "      <th>2</th>\n",
              "      <td>11765</td>\n",
              "      <td>i have all of that obviously because of what i do on youtube and my blog and while i have a ton i like that i can feel ok about it because i have it managed in a nice and organized way</td>\n",
              "      <td>11</td>\n",
              "      <td>0</td>\n",
              "      <td>joy</td>\n",
              "    </tr>\n",
              "    <tr>\n",
              "      <th>3</th>\n",
              "      <td>14390</td>\n",
              "      <td>i cannot speak for others but all i know is i feel i am the most successful prettiest version of myself when i walk out of my starbucks with my red cup holiday cup in hand</td>\n",
              "      <td>14</td>\n",
              "      <td>0</td>\n",
              "      <td>joy</td>\n",
              "    </tr>\n",
              "    <tr>\n",
              "      <th>4</th>\n",
              "      <td>388</td>\n",
              "      <td>i am pretty happy but a little on the nauseated side to feel thrilled</td>\n",
              "      <td>7</td>\n",
              "      <td>0</td>\n",
              "      <td>joy</td>\n",
              "    </tr>\n",
              "  </tbody>\n",
              "</table>\n",
              "</div>\n",
              "      <button class=\"colab-df-convert\" onclick=\"convertToInteractive('df-9ad5ea76-fde7-4fe6-90af-27936a1fc169')\"\n",
              "              title=\"Convert this dataframe to an interactive table.\"\n",
              "              style=\"display:none;\">\n",
              "        \n",
              "  <svg xmlns=\"http://www.w3.org/2000/svg\" height=\"24px\"viewBox=\"0 0 24 24\"\n",
              "       width=\"24px\">\n",
              "    <path d=\"M0 0h24v24H0V0z\" fill=\"none\"/>\n",
              "    <path d=\"M18.56 5.44l.94 2.06.94-2.06 2.06-.94-2.06-.94-.94-2.06-.94 2.06-2.06.94zm-11 1L8.5 8.5l.94-2.06 2.06-.94-2.06-.94L8.5 2.5l-.94 2.06-2.06.94zm10 10l.94 2.06.94-2.06 2.06-.94-2.06-.94-.94-2.06-.94 2.06-2.06.94z\"/><path d=\"M17.41 7.96l-1.37-1.37c-.4-.4-.92-.59-1.43-.59-.52 0-1.04.2-1.43.59L10.3 9.45l-7.72 7.72c-.78.78-.78 2.05 0 2.83L4 21.41c.39.39.9.59 1.41.59.51 0 1.02-.2 1.41-.59l7.78-7.78 2.81-2.81c.8-.78.8-2.07 0-2.86zM5.41 20L4 18.59l7.72-7.72 1.47 1.35L5.41 20z\"/>\n",
              "  </svg>\n",
              "      </button>\n",
              "      \n",
              "  <style>\n",
              "    .colab-df-container {\n",
              "      display:flex;\n",
              "      flex-wrap:wrap;\n",
              "      gap: 12px;\n",
              "    }\n",
              "\n",
              "    .colab-df-convert {\n",
              "      background-color: #E8F0FE;\n",
              "      border: none;\n",
              "      border-radius: 50%;\n",
              "      cursor: pointer;\n",
              "      display: none;\n",
              "      fill: #1967D2;\n",
              "      height: 32px;\n",
              "      padding: 0 0 0 0;\n",
              "      width: 32px;\n",
              "    }\n",
              "\n",
              "    .colab-df-convert:hover {\n",
              "      background-color: #E2EBFA;\n",
              "      box-shadow: 0px 1px 2px rgba(60, 64, 67, 0.3), 0px 1px 3px 1px rgba(60, 64, 67, 0.15);\n",
              "      fill: #174EA6;\n",
              "    }\n",
              "\n",
              "    [theme=dark] .colab-df-convert {\n",
              "      background-color: #3B4455;\n",
              "      fill: #D2E3FC;\n",
              "    }\n",
              "\n",
              "    [theme=dark] .colab-df-convert:hover {\n",
              "      background-color: #434B5C;\n",
              "      box-shadow: 0px 1px 3px 1px rgba(0, 0, 0, 0.15);\n",
              "      filter: drop-shadow(0px 1px 2px rgba(0, 0, 0, 0.3));\n",
              "      fill: #FFFFFF;\n",
              "    }\n",
              "  </style>\n",
              "\n",
              "      <script>\n",
              "        const buttonEl =\n",
              "          document.querySelector('#df-9ad5ea76-fde7-4fe6-90af-27936a1fc169 button.colab-df-convert');\n",
              "        buttonEl.style.display =\n",
              "          google.colab.kernel.accessAllowed ? 'block' : 'none';\n",
              "\n",
              "        async function convertToInteractive(key) {\n",
              "          const element = document.querySelector('#df-9ad5ea76-fde7-4fe6-90af-27936a1fc169');\n",
              "          const dataTable =\n",
              "            await google.colab.kernel.invokeFunction('convertToInteractive',\n",
              "                                                     [key], {});\n",
              "          if (!dataTable) return;\n",
              "\n",
              "          const docLinkHtml = 'Like what you see? Visit the ' +\n",
              "            '<a target=\"_blank\" href=https://colab.research.google.com/notebooks/data_table.ipynb>data table notebook</a>'\n",
              "            + ' to learn more about interactive tables.';\n",
              "          element.innerHTML = '';\n",
              "          dataTable['output_type'] = 'display_data';\n",
              "          await google.colab.output.renderOutput(dataTable, element);\n",
              "          const docLink = document.createElement('div');\n",
              "          docLink.innerHTML = docLinkHtml;\n",
              "          element.appendChild(docLink);\n",
              "        }\n",
              "      </script>\n",
              "    </div>\n",
              "  </div>\n",
              "  "
            ]
          },
          "metadata": {},
          "execution_count": 68
        }
      ]
    },
    {
      "cell_type": "markdown",
      "source": [
        "# 9 Conclusion"
      ],
      "metadata": {
        "id": "t5zKog_cqtIf"
      }
    },
    {
      "cell_type": "markdown",
      "source": [
        "The model developed can be used for training any robot to predict a emotion from sentence. \n",
        "\n",
        "#### Application:\n",
        "- The model can be used in applications like Siri, Alexa, Sentiment Analysis, Social media listening, etc"
      ],
      "metadata": {
        "id": "fblZ9yAcqwr1"
      }
    }
  ],
  "metadata": {
    "colab": {
      "collapsed_sections": [],
      "name": "Emotion Detection - NLP git.ipynb",
      "provenance": [],
      "toc_visible": true
    },
    "kernelspec": {
      "display_name": "Python 3",
      "language": "python",
      "name": "python3"
    },
    "language_info": {
      "codemirror_mode": {
        "name": "ipython",
        "version": 3
      },
      "file_extension": ".py",
      "mimetype": "text/x-python",
      "name": "python",
      "nbconvert_exporter": "python",
      "pygments_lexer": "ipython3",
      "version": "3.7.6"
    },
    "gpuClass": "standard",
    "accelerator": "GPU"
  },
  "nbformat": 4,
  "nbformat_minor": 0
}